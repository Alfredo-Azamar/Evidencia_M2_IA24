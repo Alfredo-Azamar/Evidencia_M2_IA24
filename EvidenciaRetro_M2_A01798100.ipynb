{
  "cells": [
    {
      "cell_type": "markdown",
      "metadata": {
        "id": "JPcom1LrbkYU"
      },
      "source": [
        "## **Momento de Retroalimentación** *~ Módulo 2 ~*\n",
        "\n",
        "Implementación de un modelo de deep learning\n",
        "\n",
        "Julio G. Arriaga Blumenkron\n",
        "\n",
        "\n",
        "Alfredo Azamar López -- *A01798100*"
      ]
    },
    {
      "cell_type": "markdown",
      "metadata": {
        "id": "wDulL1zKIIJj"
      },
      "source": [
        "----------"
      ]
    },
    {
      "cell_type": "markdown",
      "metadata": {
        "id": "tTeohMDwb-Ll"
      },
      "source": [
        "**Introducción**\n",
        "\n",
        "La detección temprana de enfermedades en cultivos es crucial para la agricultura, ya que permite aplicar medidas de control y minimizar pérdidas. Este proyecto está enfocado en la clasificación de imágenes para detectar y diferenciar entre estados de salud y tipos de enfermedades en 4 cultivos:\n",
        "* \"Anacardo\" (también conocido como nuez de la india)\n",
        "* \"Yuca\"\n",
        "* \"Maíz\"\n",
        "* \"Tomate\"\n",
        "\n",
        "\n",
        "\n",
        "Con el objetivo de ayudar a los agricultores a tomar decisiones informadas a la hora de detectar y controlar problemas en sus cultivos. La automatización de este proceso mediante redes neuronales puede optimizar el monitoreo y tratamiento de cultivos, aumentando la eficiencia y reduciendo pérdidas."
      ]
    },
    {
      "cell_type": "markdown",
      "metadata": {
        "id": "YVgHwZFuedXH"
      },
      "source": [
        "-----"
      ]
    },
    {
      "cell_type": "markdown",
      "metadata": {
        "id": "yIMV5PXJeasd"
      },
      "source": [
        "**Datos**\n",
        "\n",
        "*Descripción*\n",
        "\n",
        "El dataset \"CCMT\" se descargó de la plataforma *Kaggle*, este contiene 24,881 imágenes a color divididas en 4 categorías de cultivo.\n",
        "\n",
        "Cada categoría incluye imágenes de plantas en estado saludable y afectadas por enfermedades específicas. Las imágenes tienen resoluciones variadas y han sido obtenidas de granjas locales en Ghana."
      ]
    },
    {
      "cell_type": "markdown",
      "metadata": {
        "id": "wtymMscikAOr"
      },
      "source": [
        "*Preprocesamiento*\n",
        "\n",
        "Cada imagen está clasificada en carpetas según el tipo de cultivo y condición (saludable o enfermedad). Dada la gran variedad de resoluciones, las imágenes fueron redimensionadas a un tamaño de entrada uniforme de 224x224 píxeles para su procesamiento por el modelo.\n"
      ]
    },
    {
      "cell_type": "markdown",
      "metadata": {
        "id": "KnvK4opGkDiE"
      },
      "source": [
        "*Separación*\n",
        "\n",
        "El dataset está dividido en tres subconjuntos: \"train\", \"test\" y \"valid\", con el objetivo de entrenar, validar y evaluar el modelo. La división original se mantuvo para asegurar una evaluación consistente."
      ]
    },
    {
      "cell_type": "markdown",
      "metadata": {
        "id": "0GW6RUcgeKpD"
      },
      "source": [
        "------"
      ]
    },
    {
      "cell_type": "markdown",
      "metadata": {
        "id": "ATUFseU8fXUo"
      },
      "source": [
        "***Implementación***"
      ]
    },
    {
      "cell_type": "code",
      "execution_count": null,
      "metadata": {
        "id": "JUSF80q8INVM"
      },
      "outputs": [],
      "source": [
        "# Importación de librerías\n",
        "import tensorflow as tf\n",
        "from tensorflow.keras.preprocessing.image import ImageDataGenerator\n",
        "from tensorflow.keras.applications import ResNet50\n",
        "from tensorflow.keras.models import Sequential\n",
        "from tensorflow.keras.layers import Conv2D, MaxPooling2D, Flatten, Dense, Dropout, BatchNormalization, GlobalAveragePooling2D, RandomFlip, RandomRotation, RandomZoom, RandomHeight, RandomWidth, Input, Rescaling, Resizing\n",
        "from tensorflow.keras.callbacks import EarlyStopping\n",
        "from tensorflow.keras.utils import image_dataset_from_directory\n",
        "import matplotlib.pyplot as plt\n",
        "import numpy as np\n",
        "import os"
      ]
    },
    {
      "cell_type": "markdown",
      "metadata": {
        "id": "P-0yGvTfFpJv"
      },
      "source": [
        "*Obteniendo del dataset proveniente de Kaggle*\n",
        "\n",
        "\n",
        "\n"
      ]
    },
    {
      "cell_type": "code",
      "execution_count": null,
      "metadata": {
        "id": "c3C7c7JQ_wKm"
      },
      "outputs": [],
      "source": [
        "!pip install -q kaggle"
      ]
    },
    {
      "cell_type": "code",
      "execution_count": null,
      "metadata": {
        "colab": {
          "base_uri": "https://localhost:8080/",
          "height": 108
        },
        "id": "HY-ggALVFvm6",
        "outputId": "39447fe9-37ec-472c-a266-9d8f3146affb"
      },
      "outputs": [
        {
          "data": {
            "text/html": [
              "\n",
              "     <input type=\"file\" id=\"files-01121196-fba3-4748-9d5e-db3b2e6ad56f\" name=\"files[]\" multiple disabled\n",
              "        style=\"border:none\" />\n",
              "     <output id=\"result-01121196-fba3-4748-9d5e-db3b2e6ad56f\">\n",
              "      Upload widget is only available when the cell has been executed in the\n",
              "      current browser session. Please rerun this cell to enable.\n",
              "      </output>\n",
              "      <script>// Copyright 2017 Google LLC\n",
              "//\n",
              "// Licensed under the Apache License, Version 2.0 (the \"License\");\n",
              "// you may not use this file except in compliance with the License.\n",
              "// You may obtain a copy of the License at\n",
              "//\n",
              "//      http://www.apache.org/licenses/LICENSE-2.0\n",
              "//\n",
              "// Unless required by applicable law or agreed to in writing, software\n",
              "// distributed under the License is distributed on an \"AS IS\" BASIS,\n",
              "// WITHOUT WARRANTIES OR CONDITIONS OF ANY KIND, either express or implied.\n",
              "// See the License for the specific language governing permissions and\n",
              "// limitations under the License.\n",
              "\n",
              "/**\n",
              " * @fileoverview Helpers for google.colab Python module.\n",
              " */\n",
              "(function(scope) {\n",
              "function span(text, styleAttributes = {}) {\n",
              "  const element = document.createElement('span');\n",
              "  element.textContent = text;\n",
              "  for (const key of Object.keys(styleAttributes)) {\n",
              "    element.style[key] = styleAttributes[key];\n",
              "  }\n",
              "  return element;\n",
              "}\n",
              "\n",
              "// Max number of bytes which will be uploaded at a time.\n",
              "const MAX_PAYLOAD_SIZE = 100 * 1024;\n",
              "\n",
              "function _uploadFiles(inputId, outputId) {\n",
              "  const steps = uploadFilesStep(inputId, outputId);\n",
              "  const outputElement = document.getElementById(outputId);\n",
              "  // Cache steps on the outputElement to make it available for the next call\n",
              "  // to uploadFilesContinue from Python.\n",
              "  outputElement.steps = steps;\n",
              "\n",
              "  return _uploadFilesContinue(outputId);\n",
              "}\n",
              "\n",
              "// This is roughly an async generator (not supported in the browser yet),\n",
              "// where there are multiple asynchronous steps and the Python side is going\n",
              "// to poll for completion of each step.\n",
              "// This uses a Promise to block the python side on completion of each step,\n",
              "// then passes the result of the previous step as the input to the next step.\n",
              "function _uploadFilesContinue(outputId) {\n",
              "  const outputElement = document.getElementById(outputId);\n",
              "  const steps = outputElement.steps;\n",
              "\n",
              "  const next = steps.next(outputElement.lastPromiseValue);\n",
              "  return Promise.resolve(next.value.promise).then((value) => {\n",
              "    // Cache the last promise value to make it available to the next\n",
              "    // step of the generator.\n",
              "    outputElement.lastPromiseValue = value;\n",
              "    return next.value.response;\n",
              "  });\n",
              "}\n",
              "\n",
              "/**\n",
              " * Generator function which is called between each async step of the upload\n",
              " * process.\n",
              " * @param {string} inputId Element ID of the input file picker element.\n",
              " * @param {string} outputId Element ID of the output display.\n",
              " * @return {!Iterable<!Object>} Iterable of next steps.\n",
              " */\n",
              "function* uploadFilesStep(inputId, outputId) {\n",
              "  const inputElement = document.getElementById(inputId);\n",
              "  inputElement.disabled = false;\n",
              "\n",
              "  const outputElement = document.getElementById(outputId);\n",
              "  outputElement.innerHTML = '';\n",
              "\n",
              "  const pickedPromise = new Promise((resolve) => {\n",
              "    inputElement.addEventListener('change', (e) => {\n",
              "      resolve(e.target.files);\n",
              "    });\n",
              "  });\n",
              "\n",
              "  const cancel = document.createElement('button');\n",
              "  inputElement.parentElement.appendChild(cancel);\n",
              "  cancel.textContent = 'Cancel upload';\n",
              "  const cancelPromise = new Promise((resolve) => {\n",
              "    cancel.onclick = () => {\n",
              "      resolve(null);\n",
              "    };\n",
              "  });\n",
              "\n",
              "  // Wait for the user to pick the files.\n",
              "  const files = yield {\n",
              "    promise: Promise.race([pickedPromise, cancelPromise]),\n",
              "    response: {\n",
              "      action: 'starting',\n",
              "    }\n",
              "  };\n",
              "\n",
              "  cancel.remove();\n",
              "\n",
              "  // Disable the input element since further picks are not allowed.\n",
              "  inputElement.disabled = true;\n",
              "\n",
              "  if (!files) {\n",
              "    return {\n",
              "      response: {\n",
              "        action: 'complete',\n",
              "      }\n",
              "    };\n",
              "  }\n",
              "\n",
              "  for (const file of files) {\n",
              "    const li = document.createElement('li');\n",
              "    li.append(span(file.name, {fontWeight: 'bold'}));\n",
              "    li.append(span(\n",
              "        `(${file.type || 'n/a'}) - ${file.size} bytes, ` +\n",
              "        `last modified: ${\n",
              "            file.lastModifiedDate ? file.lastModifiedDate.toLocaleDateString() :\n",
              "                                    'n/a'} - `));\n",
              "    const percent = span('0% done');\n",
              "    li.appendChild(percent);\n",
              "\n",
              "    outputElement.appendChild(li);\n",
              "\n",
              "    const fileDataPromise = new Promise((resolve) => {\n",
              "      const reader = new FileReader();\n",
              "      reader.onload = (e) => {\n",
              "        resolve(e.target.result);\n",
              "      };\n",
              "      reader.readAsArrayBuffer(file);\n",
              "    });\n",
              "    // Wait for the data to be ready.\n",
              "    let fileData = yield {\n",
              "      promise: fileDataPromise,\n",
              "      response: {\n",
              "        action: 'continue',\n",
              "      }\n",
              "    };\n",
              "\n",
              "    // Use a chunked sending to avoid message size limits. See b/62115660.\n",
              "    let position = 0;\n",
              "    do {\n",
              "      const length = Math.min(fileData.byteLength - position, MAX_PAYLOAD_SIZE);\n",
              "      const chunk = new Uint8Array(fileData, position, length);\n",
              "      position += length;\n",
              "\n",
              "      const base64 = btoa(String.fromCharCode.apply(null, chunk));\n",
              "      yield {\n",
              "        response: {\n",
              "          action: 'append',\n",
              "          file: file.name,\n",
              "          data: base64,\n",
              "        },\n",
              "      };\n",
              "\n",
              "      let percentDone = fileData.byteLength === 0 ?\n",
              "          100 :\n",
              "          Math.round((position / fileData.byteLength) * 100);\n",
              "      percent.textContent = `${percentDone}% done`;\n",
              "\n",
              "    } while (position < fileData.byteLength);\n",
              "  }\n",
              "\n",
              "  // All done.\n",
              "  yield {\n",
              "    response: {\n",
              "      action: 'complete',\n",
              "    }\n",
              "  };\n",
              "}\n",
              "\n",
              "scope.google = scope.google || {};\n",
              "scope.google.colab = scope.google.colab || {};\n",
              "scope.google.colab._files = {\n",
              "  _uploadFiles,\n",
              "  _uploadFilesContinue,\n",
              "};\n",
              "})(self);\n",
              "</script> "
            ],
            "text/plain": [
              "<IPython.core.display.HTML object>"
            ]
          },
          "metadata": {},
          "output_type": "display_data"
        },
        {
          "name": "stdout",
          "output_type": "stream",
          "text": [
            "Saving kaggle.json to kaggle.json\n"
          ]
        },
        {
          "data": {
            "text/plain": [
              "{'kaggle.json': b'{\"username\":\"alfredoazamar\",\"key\":\"85fc305c57cf0edea18fae9807072b70\"}'}"
            ]
          },
          "execution_count": 3,
          "metadata": {},
          "output_type": "execute_result"
        }
      ],
      "source": [
        "# Subir la llave (API) de Kaggle\n",
        "from google.colab import files\n",
        "files.upload()"
      ]
    },
    {
      "cell_type": "code",
      "execution_count": null,
      "metadata": {
        "id": "lb8m5IfZFx6y"
      },
      "outputs": [],
      "source": [
        "# Configuración de la Kaggle library\n",
        "!mkdir ~/.kaggle\n",
        "!cp kaggle.json ~/.kaggle/kaggle.json\n",
        "!chmod 600 ~/.kaggle/kaggle.json"
      ]
    },
    {
      "cell_type": "code",
      "execution_count": null,
      "metadata": {
        "colab": {
          "base_uri": "https://localhost:8080/"
        },
        "id": "qYFk3mquF7Qr",
        "outputId": "ea1395b2-26e5-4bee-9575-402b402316f8"
      },
      "outputs": [
        {
          "name": "stdout",
          "output_type": "stream",
          "text": [
            "Dataset URL: https://www.kaggle.com/datasets/armaanoajay/ccmt-crop-pest-and-disease-detection\n",
            "License(s): unknown\n",
            "Downloading ccmt-crop-pest-and-disease-detection.zip to /content\n",
            "100% 5.00G/5.00G [04:13<00:00, 17.5MB/s]\n",
            "100% 5.00G/5.00G [04:13<00:00, 21.2MB/s]\n"
          ]
        }
      ],
      "source": [
        "# Descargando el dataset\n",
        "!kaggle datasets download -d armaanoajay/ccmt-crop-pest-and-disease-detection"
      ]
    },
    {
      "cell_type": "code",
      "execution_count": null,
      "metadata": {
        "id": "J2JLeUslGv6i"
      },
      "outputs": [],
      "source": [
        "# Descomprimiendo\n",
        "import zipfile\n",
        "with zipfile.ZipFile(\"ccmt-crop-pest-and-disease-detection.zip\", 'r') as zip_ref:\n",
        "    zip_ref.extractall(\"dataset\")\n"
      ]
    },
    {
      "cell_type": "code",
      "execution_count": null,
      "metadata": {
        "colab": {
          "base_uri": "https://localhost:8080/"
        },
        "id": "tRre_dnTLreg",
        "outputId": "728aa41a-1f37-4dec-a124-a5e7c37ef624"
      },
      "outputs": [
        {
          "name": "stdout",
          "output_type": "stream",
          "text": [
            "La carpeta con los datos de entrenamiento está en: dataset/split-new\n",
            "valid\n",
            ".DS_Store\n",
            "test\n",
            "train\n"
          ]
        }
      ],
      "source": [
        "# Verificación de la carga del dataset\n",
        "\n",
        "# Ruta a la carpeta \"train\" dentro del dataset\n",
        "train_data_dir = os.path.join(\"dataset\", \"split-new\")\n",
        "\n",
        "# Verificar si la carpeta existe\n",
        "if os.path.exists(train_data_dir):\n",
        "  print(f\"La carpeta con los datos de entrenamiento está en: {train_data_dir}\")\n",
        "\n",
        "  # Puedes listar los archivos y subcarpetas dentro de la carpeta \"train\" si lo deseas\n",
        "  for item in os.listdir(train_data_dir):\n",
        "    print(item)\n",
        "else:\n",
        "  print(\"No se encontró la carpeta 'train'. Asegúrate de que la ruta sea correcta.\")\n",
        "\n"
      ]
    },
    {
      "cell_type": "markdown",
      "metadata": {
        "id": "S6qkR26HIMX2"
      },
      "source": [
        "------------"
      ]
    },
    {
      "cell_type": "markdown",
      "metadata": {
        "id": "UL7FkBrVM6mz"
      },
      "source": [
        "*Preprocesamiento el dataset*"
      ]
    },
    {
      "cell_type": "code",
      "execution_count": null,
      "metadata": {
        "colab": {
          "base_uri": "https://localhost:8080/"
        },
        "id": "JZcLo426e9iC",
        "outputId": "1edf53b4-5078-41bd-ef9b-585e8cf0d983"
      },
      "outputs": [
        {
          "name": "stdout",
          "output_type": "stream",
          "text": [
            "La carpeta dataset/split-new/train está lista.\n",
            "La carpeta dataset/split-new/valid está lista.\n",
            "La carpeta dataset/split-new/test está lista.\n"
          ]
        }
      ],
      "source": [
        "# Seccionamiento de los datos\n",
        "\n",
        "base_dir = 'dataset/split-new'\n",
        "train_data_dir = os.path.join(base_dir, 'train')\n",
        "validation_data_dir = os.path.join(base_dir, 'valid')\n",
        "test_data_dir = os.path.join(base_dir, 'test')\n",
        "\n",
        "\n",
        "# Verificamos que las rutas sean correctas\n",
        "for directory in [train_data_dir, validation_data_dir, test_data_dir]:\n",
        "    if os.path.exists(directory):\n",
        "        print(f\"La carpeta {directory} está lista.\")\n",
        "    else:\n",
        "        print(f\"Error: No se encontró la carpeta {directory}.\")"
      ]
    },
    {
      "cell_type": "code",
      "execution_count": null,
      "metadata": {
        "colab": {
          "base_uri": "https://localhost:8080/"
        },
        "id": "AbrZVpQVMO6F",
        "outputId": "5ea5e423-4ce9-4397-e115-6683b58f0d64"
      },
      "outputs": [
        {
          "name": "stdout",
          "output_type": "stream",
          "text": [
            "Found 15062 files belonging to 22 classes.\n",
            "Found 5012 files belonging to 22 classes.\n",
            "Found 5052 files belonging to 22 classes.\n"
          ]
        }
      ],
      "source": [
        "img_height, img_width = 224, 224\n",
        "batch_size = 32\n",
        "\n",
        "# Cargar datasets con `image_dataset_from_directory`\n",
        "train_dataset = tf.keras.utils.image_dataset_from_directory(\n",
        "    train_data_dir,\n",
        "    image_size=(img_height, img_width),\n",
        "    batch_size=batch_size,\n",
        "    label_mode='categorical'\n",
        ")\n",
        "\n",
        "validation_dataset = tf.keras.utils.image_dataset_from_directory(\n",
        "    validation_data_dir,\n",
        "    image_size=(img_height, img_width),\n",
        "    batch_size=batch_size,\n",
        "    label_mode='categorical'\n",
        ")\n",
        "\n",
        "test_dataset = tf.keras.utils.image_dataset_from_directory(\n",
        "    test_data_dir,\n",
        "    image_size=(img_height, img_width),\n",
        "    batch_size=batch_size,\n",
        "    shuffle=False  # Mantener orden para evaluaciones\n",
        ")\n",
        "\n",
        "class_labels = train_dataset.class_names\n",
        "\n",
        "AUTOTUNE = tf.data.AUTOTUNE\n",
        "train_dataset = train_dataset.prefetch(buffer_size=AUTOTUNE)\n",
        "validation_dataset = validation_dataset.prefetch(buffer_size=AUTOTUNE)\n",
        "test_dataset = test_dataset.prefetch(buffer_size=AUTOTUNE)"
      ]
    },
    {
      "cell_type": "markdown",
      "metadata": {
        "id": "3H7TynWqM94p"
      },
      "source": [
        "-----------"
      ]
    },
    {
      "cell_type": "markdown",
      "metadata": {
        "id": "7enfFnrXM0G3"
      },
      "source": [
        "**Desarrollo del modelo**\n",
        "\n",
        "*Arquitectura*\n",
        "\n",
        "El modelo consta de las siguientes capas:\n",
        "\n",
        "Capa de entrada: Recibe imágenes de tamaño 224x224 píxeles. Se aplica un preprocesamiento con data augmentation que incluye:\n",
        "\n",
        "* Volteo horizontal aleatorio\n",
        "* Rotación aleatoria\n",
        "* Zoom aleatorio\n",
        "* Ajuste aleatorio de altura y anchura\n",
        "* Ajuste aleatorio de contraste y brillo.\n",
        "* Escalado de píxeles a un rango de 0-1.\n",
        "\n",
        "\n",
        "Capas convolucionales: Se utilizan 3 bloques convolucionales, cada uno con una capa Conv2D seguida de una capa MaxPooling2D. El número de filtros en las capas Conv2D aumenta progresivamente (32, 64, 128) para extraer características cada vez más complejas.\n",
        "\n",
        "Aplanamiento: La salida de las capas convolucionales se aplana con Flatten para ser procesada por capas densas.\n",
        "\n",
        "Capas densas (se utilizan dos capas densas):\n",
        "\n",
        "Una capa oculta con 128 neuronas y activación ReLU. Una capa de salida con 22 neuronas (correspondientes a las 22 clases de enfermedades) y activación softmax para obtener probabilidades para cada clase.\n",
        "Se aplica Dropout (0.5) para regularizar el modelo y prevenir el sobreajuste."
      ]
    },
    {
      "cell_type": "code",
      "execution_count": null,
      "metadata": {
        "colab": {
          "base_uri": "https://localhost:8080/",
          "height": 524
        },
        "id": "smo_aBS1ClAQ",
        "outputId": "5ed5d49e-4b39-4542-893d-b3d72ef16984"
      },
      "outputs": [
        {
          "data": {
            "text/html": [
              "<pre style=\"white-space:pre;overflow-x:auto;line-height:normal;font-family:Menlo,'DejaVu Sans Mono',consolas,'Courier New',monospace\"><span style=\"font-weight: bold\">Model: \"sequential_1\"</span>\n",
              "</pre>\n"
            ],
            "text/plain": [
              "\u001b[1mModel: \"sequential_1\"\u001b[0m\n"
            ]
          },
          "metadata": {},
          "output_type": "display_data"
        },
        {
          "data": {
            "text/html": [
              "<pre style=\"white-space:pre;overflow-x:auto;line-height:normal;font-family:Menlo,'DejaVu Sans Mono',consolas,'Courier New',monospace\">┏━━━━━━━━━━━━━━━━━━━━━━━━━━━━━━━━━┳━━━━━━━━━━━━━━━━━━━━━━━━┳━━━━━━━━━━━━━━━┓\n",
              "┃<span style=\"font-weight: bold\"> Layer (type)                    </span>┃<span style=\"font-weight: bold\"> Output Shape           </span>┃<span style=\"font-weight: bold\">       Param # </span>┃\n",
              "┡━━━━━━━━━━━━━━━━━━━━━━━━━━━━━━━━━╇━━━━━━━━━━━━━━━━━━━━━━━━╇━━━━━━━━━━━━━━━┩\n",
              "│ sequential (<span style=\"color: #0087ff; text-decoration-color: #0087ff\">Sequential</span>)         │ (<span style=\"color: #00d7ff; text-decoration-color: #00d7ff\">None</span>, <span style=\"color: #00af00; text-decoration-color: #00af00\">224</span>, <span style=\"color: #00af00; text-decoration-color: #00af00\">224</span>, <span style=\"color: #00af00; text-decoration-color: #00af00\">3</span>)    │             <span style=\"color: #00af00; text-decoration-color: #00af00\">0</span> │\n",
              "├─────────────────────────────────┼────────────────────────┼───────────────┤\n",
              "│ rescaling (<span style=\"color: #0087ff; text-decoration-color: #0087ff\">Rescaling</span>)           │ (<span style=\"color: #00d7ff; text-decoration-color: #00d7ff\">None</span>, <span style=\"color: #00af00; text-decoration-color: #00af00\">224</span>, <span style=\"color: #00af00; text-decoration-color: #00af00\">224</span>, <span style=\"color: #00af00; text-decoration-color: #00af00\">3</span>)    │             <span style=\"color: #00af00; text-decoration-color: #00af00\">0</span> │\n",
              "├─────────────────────────────────┼────────────────────────┼───────────────┤\n",
              "│ conv2d (<span style=\"color: #0087ff; text-decoration-color: #0087ff\">Conv2D</span>)                 │ (<span style=\"color: #00d7ff; text-decoration-color: #00d7ff\">None</span>, <span style=\"color: #00af00; text-decoration-color: #00af00\">222</span>, <span style=\"color: #00af00; text-decoration-color: #00af00\">222</span>, <span style=\"color: #00af00; text-decoration-color: #00af00\">32</span>)   │           <span style=\"color: #00af00; text-decoration-color: #00af00\">896</span> │\n",
              "├─────────────────────────────────┼────────────────────────┼───────────────┤\n",
              "│ max_pooling2d (<span style=\"color: #0087ff; text-decoration-color: #0087ff\">MaxPooling2D</span>)    │ (<span style=\"color: #00d7ff; text-decoration-color: #00d7ff\">None</span>, <span style=\"color: #00af00; text-decoration-color: #00af00\">111</span>, <span style=\"color: #00af00; text-decoration-color: #00af00\">111</span>, <span style=\"color: #00af00; text-decoration-color: #00af00\">32</span>)   │             <span style=\"color: #00af00; text-decoration-color: #00af00\">0</span> │\n",
              "├─────────────────────────────────┼────────────────────────┼───────────────┤\n",
              "│ conv2d_1 (<span style=\"color: #0087ff; text-decoration-color: #0087ff\">Conv2D</span>)               │ (<span style=\"color: #00d7ff; text-decoration-color: #00d7ff\">None</span>, <span style=\"color: #00af00; text-decoration-color: #00af00\">109</span>, <span style=\"color: #00af00; text-decoration-color: #00af00\">109</span>, <span style=\"color: #00af00; text-decoration-color: #00af00\">64</span>)   │        <span style=\"color: #00af00; text-decoration-color: #00af00\">18,496</span> │\n",
              "├─────────────────────────────────┼────────────────────────┼───────────────┤\n",
              "│ max_pooling2d_1 (<span style=\"color: #0087ff; text-decoration-color: #0087ff\">MaxPooling2D</span>)  │ (<span style=\"color: #00d7ff; text-decoration-color: #00d7ff\">None</span>, <span style=\"color: #00af00; text-decoration-color: #00af00\">54</span>, <span style=\"color: #00af00; text-decoration-color: #00af00\">54</span>, <span style=\"color: #00af00; text-decoration-color: #00af00\">64</span>)     │             <span style=\"color: #00af00; text-decoration-color: #00af00\">0</span> │\n",
              "├─────────────────────────────────┼────────────────────────┼───────────────┤\n",
              "│ conv2d_2 (<span style=\"color: #0087ff; text-decoration-color: #0087ff\">Conv2D</span>)               │ (<span style=\"color: #00d7ff; text-decoration-color: #00d7ff\">None</span>, <span style=\"color: #00af00; text-decoration-color: #00af00\">52</span>, <span style=\"color: #00af00; text-decoration-color: #00af00\">52</span>, <span style=\"color: #00af00; text-decoration-color: #00af00\">128</span>)    │        <span style=\"color: #00af00; text-decoration-color: #00af00\">73,856</span> │\n",
              "├─────────────────────────────────┼────────────────────────┼───────────────┤\n",
              "│ max_pooling2d_2 (<span style=\"color: #0087ff; text-decoration-color: #0087ff\">MaxPooling2D</span>)  │ (<span style=\"color: #00d7ff; text-decoration-color: #00d7ff\">None</span>, <span style=\"color: #00af00; text-decoration-color: #00af00\">26</span>, <span style=\"color: #00af00; text-decoration-color: #00af00\">26</span>, <span style=\"color: #00af00; text-decoration-color: #00af00\">128</span>)    │             <span style=\"color: #00af00; text-decoration-color: #00af00\">0</span> │\n",
              "├─────────────────────────────────┼────────────────────────┼───────────────┤\n",
              "│ flatten (<span style=\"color: #0087ff; text-decoration-color: #0087ff\">Flatten</span>)               │ (<span style=\"color: #00d7ff; text-decoration-color: #00d7ff\">None</span>, <span style=\"color: #00af00; text-decoration-color: #00af00\">86528</span>)          │             <span style=\"color: #00af00; text-decoration-color: #00af00\">0</span> │\n",
              "├─────────────────────────────────┼────────────────────────┼───────────────┤\n",
              "│ dense (<span style=\"color: #0087ff; text-decoration-color: #0087ff\">Dense</span>)                   │ (<span style=\"color: #00d7ff; text-decoration-color: #00d7ff\">None</span>, <span style=\"color: #00af00; text-decoration-color: #00af00\">128</span>)            │    <span style=\"color: #00af00; text-decoration-color: #00af00\">11,075,712</span> │\n",
              "├─────────────────────────────────┼────────────────────────┼───────────────┤\n",
              "│ dropout (<span style=\"color: #0087ff; text-decoration-color: #0087ff\">Dropout</span>)               │ (<span style=\"color: #00d7ff; text-decoration-color: #00d7ff\">None</span>, <span style=\"color: #00af00; text-decoration-color: #00af00\">128</span>)            │             <span style=\"color: #00af00; text-decoration-color: #00af00\">0</span> │\n",
              "├─────────────────────────────────┼────────────────────────┼───────────────┤\n",
              "│ dense_1 (<span style=\"color: #0087ff; text-decoration-color: #0087ff\">Dense</span>)                 │ (<span style=\"color: #00d7ff; text-decoration-color: #00d7ff\">None</span>, <span style=\"color: #00af00; text-decoration-color: #00af00\">22</span>)             │         <span style=\"color: #00af00; text-decoration-color: #00af00\">2,838</span> │\n",
              "└─────────────────────────────────┴────────────────────────┴───────────────┘\n",
              "</pre>\n"
            ],
            "text/plain": [
              "┏━━━━━━━━━━━━━━━━━━━━━━━━━━━━━━━━━┳━━━━━━━━━━━━━━━━━━━━━━━━┳━━━━━━━━━━━━━━━┓\n",
              "┃\u001b[1m \u001b[0m\u001b[1mLayer (type)                   \u001b[0m\u001b[1m \u001b[0m┃\u001b[1m \u001b[0m\u001b[1mOutput Shape          \u001b[0m\u001b[1m \u001b[0m┃\u001b[1m \u001b[0m\u001b[1m      Param #\u001b[0m\u001b[1m \u001b[0m┃\n",
              "┡━━━━━━━━━━━━━━━━━━━━━━━━━━━━━━━━━╇━━━━━━━━━━━━━━━━━━━━━━━━╇━━━━━━━━━━━━━━━┩\n",
              "│ sequential (\u001b[38;5;33mSequential\u001b[0m)         │ (\u001b[38;5;45mNone\u001b[0m, \u001b[38;5;34m224\u001b[0m, \u001b[38;5;34m224\u001b[0m, \u001b[38;5;34m3\u001b[0m)    │             \u001b[38;5;34m0\u001b[0m │\n",
              "├─────────────────────────────────┼────────────────────────┼───────────────┤\n",
              "│ rescaling (\u001b[38;5;33mRescaling\u001b[0m)           │ (\u001b[38;5;45mNone\u001b[0m, \u001b[38;5;34m224\u001b[0m, \u001b[38;5;34m224\u001b[0m, \u001b[38;5;34m3\u001b[0m)    │             \u001b[38;5;34m0\u001b[0m │\n",
              "├─────────────────────────────────┼────────────────────────┼───────────────┤\n",
              "│ conv2d (\u001b[38;5;33mConv2D\u001b[0m)                 │ (\u001b[38;5;45mNone\u001b[0m, \u001b[38;5;34m222\u001b[0m, \u001b[38;5;34m222\u001b[0m, \u001b[38;5;34m32\u001b[0m)   │           \u001b[38;5;34m896\u001b[0m │\n",
              "├─────────────────────────────────┼────────────────────────┼───────────────┤\n",
              "│ max_pooling2d (\u001b[38;5;33mMaxPooling2D\u001b[0m)    │ (\u001b[38;5;45mNone\u001b[0m, \u001b[38;5;34m111\u001b[0m, \u001b[38;5;34m111\u001b[0m, \u001b[38;5;34m32\u001b[0m)   │             \u001b[38;5;34m0\u001b[0m │\n",
              "├─────────────────────────────────┼────────────────────────┼───────────────┤\n",
              "│ conv2d_1 (\u001b[38;5;33mConv2D\u001b[0m)               │ (\u001b[38;5;45mNone\u001b[0m, \u001b[38;5;34m109\u001b[0m, \u001b[38;5;34m109\u001b[0m, \u001b[38;5;34m64\u001b[0m)   │        \u001b[38;5;34m18,496\u001b[0m │\n",
              "├─────────────────────────────────┼────────────────────────┼───────────────┤\n",
              "│ max_pooling2d_1 (\u001b[38;5;33mMaxPooling2D\u001b[0m)  │ (\u001b[38;5;45mNone\u001b[0m, \u001b[38;5;34m54\u001b[0m, \u001b[38;5;34m54\u001b[0m, \u001b[38;5;34m64\u001b[0m)     │             \u001b[38;5;34m0\u001b[0m │\n",
              "├─────────────────────────────────┼────────────────────────┼───────────────┤\n",
              "│ conv2d_2 (\u001b[38;5;33mConv2D\u001b[0m)               │ (\u001b[38;5;45mNone\u001b[0m, \u001b[38;5;34m52\u001b[0m, \u001b[38;5;34m52\u001b[0m, \u001b[38;5;34m128\u001b[0m)    │        \u001b[38;5;34m73,856\u001b[0m │\n",
              "├─────────────────────────────────┼────────────────────────┼───────────────┤\n",
              "│ max_pooling2d_2 (\u001b[38;5;33mMaxPooling2D\u001b[0m)  │ (\u001b[38;5;45mNone\u001b[0m, \u001b[38;5;34m26\u001b[0m, \u001b[38;5;34m26\u001b[0m, \u001b[38;5;34m128\u001b[0m)    │             \u001b[38;5;34m0\u001b[0m │\n",
              "├─────────────────────────────────┼────────────────────────┼───────────────┤\n",
              "│ flatten (\u001b[38;5;33mFlatten\u001b[0m)               │ (\u001b[38;5;45mNone\u001b[0m, \u001b[38;5;34m86528\u001b[0m)          │             \u001b[38;5;34m0\u001b[0m │\n",
              "├─────────────────────────────────┼────────────────────────┼───────────────┤\n",
              "│ dense (\u001b[38;5;33mDense\u001b[0m)                   │ (\u001b[38;5;45mNone\u001b[0m, \u001b[38;5;34m128\u001b[0m)            │    \u001b[38;5;34m11,075,712\u001b[0m │\n",
              "├─────────────────────────────────┼────────────────────────┼───────────────┤\n",
              "│ dropout (\u001b[38;5;33mDropout\u001b[0m)               │ (\u001b[38;5;45mNone\u001b[0m, \u001b[38;5;34m128\u001b[0m)            │             \u001b[38;5;34m0\u001b[0m │\n",
              "├─────────────────────────────────┼────────────────────────┼───────────────┤\n",
              "│ dense_1 (\u001b[38;5;33mDense\u001b[0m)                 │ (\u001b[38;5;45mNone\u001b[0m, \u001b[38;5;34m22\u001b[0m)             │         \u001b[38;5;34m2,838\u001b[0m │\n",
              "└─────────────────────────────────┴────────────────────────┴───────────────┘\n"
            ]
          },
          "metadata": {},
          "output_type": "display_data"
        },
        {
          "data": {
            "text/html": [
              "<pre style=\"white-space:pre;overflow-x:auto;line-height:normal;font-family:Menlo,'DejaVu Sans Mono',consolas,'Courier New',monospace\"><span style=\"font-weight: bold\"> Total params: </span><span style=\"color: #00af00; text-decoration-color: #00af00\">11,171,798</span> (42.62 MB)\n",
              "</pre>\n"
            ],
            "text/plain": [
              "\u001b[1m Total params: \u001b[0m\u001b[38;5;34m11,171,798\u001b[0m (42.62 MB)\n"
            ]
          },
          "metadata": {},
          "output_type": "display_data"
        },
        {
          "data": {
            "text/html": [
              "<pre style=\"white-space:pre;overflow-x:auto;line-height:normal;font-family:Menlo,'DejaVu Sans Mono',consolas,'Courier New',monospace\"><span style=\"font-weight: bold\"> Trainable params: </span><span style=\"color: #00af00; text-decoration-color: #00af00\">11,171,798</span> (42.62 MB)\n",
              "</pre>\n"
            ],
            "text/plain": [
              "\u001b[1m Trainable params: \u001b[0m\u001b[38;5;34m11,171,798\u001b[0m (42.62 MB)\n"
            ]
          },
          "metadata": {},
          "output_type": "display_data"
        },
        {
          "data": {
            "text/html": [
              "<pre style=\"white-space:pre;overflow-x:auto;line-height:normal;font-family:Menlo,'DejaVu Sans Mono',consolas,'Courier New',monospace\"><span style=\"font-weight: bold\"> Non-trainable params: </span><span style=\"color: #00af00; text-decoration-color: #00af00\">0</span> (0.00 B)\n",
              "</pre>\n"
            ],
            "text/plain": [
              "\u001b[1m Non-trainable params: \u001b[0m\u001b[38;5;34m0\u001b[0m (0.00 B)\n"
            ]
          },
          "metadata": {},
          "output_type": "display_data"
        }
      ],
      "source": [
        "# Creación del primer modelo\n",
        "\n",
        "# Transformaciones para el aumento de datos\n",
        "data_augmentation = tf.keras.Sequential([\n",
        "    RandomFlip(\"horizontal\"),\n",
        "    RandomRotation(0.2),\n",
        "    RandomZoom(0.1),\n",
        "    RandomHeight(0.1),\n",
        "    RandomWidth(0.1),\n",
        "    Resizing(img_height, img_width),\n",
        "])\n",
        "\n",
        "model = Sequential([\n",
        "    Input(shape=(img_height, img_width, 3)),\n",
        "    data_augmentation,\n",
        "    Rescaling(1./255),\n",
        "    Conv2D(32, (3, 3), activation='relu'),\n",
        "    MaxPooling2D(pool_size=(2, 2)),\n",
        "\n",
        "    Conv2D(64, (3, 3), activation='relu'),\n",
        "    MaxPooling2D(pool_size=(2, 2)),\n",
        "\n",
        "    Conv2D(128, (3, 3), activation='relu'),\n",
        "    MaxPooling2D(pool_size=(2, 2)),\n",
        "\n",
        "    Flatten(),\n",
        "    Dense(128, activation='relu'),\n",
        "    Dropout(0.5),\n",
        "    Dense(22, activation='softmax')\n",
        "])\n",
        "\n",
        "model.compile(optimizer='adam', loss='categorical_crossentropy', metrics=['accuracy'])\n",
        "model.summary()\n",
        "\n"
      ]
    },
    {
      "cell_type": "markdown",
      "metadata": {
        "id": "81e-F62kNkKa"
      },
      "source": [
        "*Entrenamiento*\n",
        "\n",
        "Para la compilación del modelo se usa el optimizador \"Adam\", que es eficiente y funciona bien en tareas de clasificación de imágenes y la función de pérdida fue \"categorical_crossentropy\" (adecuada para tareas de clasificación multiclase).\n",
        "\n",
        "Para el entrenamiento, se utilizó una estrategia de \"EarlyStopping\" con un monitoreo de la pérdida en el conjunto de validación (val_loss) y una paciencia de 5 épocas. Esto ayuda a prevenir el sobreajuste, ya que detiene el entrenamiento cuando el modelo deja de mejorar en el conjunto de validación y restaura los mejores pesos.\n",
        "\n",
        "El modelo fue entrenado durante un máximo de 100 épocas, alcanzando a realizar aproximadamente 40 épocas utilizando \"train_dataset\" y \"validation_dataset\" como generadores de datos."
      ]
    },
    {
      "cell_type": "code",
      "execution_count": null,
      "metadata": {
        "colab": {
          "base_uri": "https://localhost:8080/"
        },
        "id": "NjN9ImDyEh8m",
        "outputId": "c1b27a4a-7889-4ab7-90c9-6367314fc332"
      },
      "outputs": [
        {
          "name": "stdout",
          "output_type": "stream",
          "text": [
            "Epoch 1/100\n",
            "\u001b[1m471/471\u001b[0m \u001b[32m━━━━━━━━━━━━━━━━━━━━\u001b[0m\u001b[37m\u001b[0m \u001b[1m205s\u001b[0m 433ms/step - accuracy: 0.1613 - loss: 2.8140 - val_accuracy: 0.2923 - val_loss: 2.2777\n",
            "Epoch 2/100\n",
            "\u001b[1m471/471\u001b[0m \u001b[32m━━━━━━━━━━━━━━━━━━━━\u001b[0m\u001b[37m\u001b[0m \u001b[1m204s\u001b[0m 434ms/step - accuracy: 0.2704 - loss: 2.3550 - val_accuracy: 0.3579 - val_loss: 2.1023\n",
            "Epoch 3/100\n",
            "\u001b[1m471/471\u001b[0m \u001b[32m━━━━━━━━━━━━━━━━━━━━\u001b[0m\u001b[37m\u001b[0m \u001b[1m205s\u001b[0m 436ms/step - accuracy: 0.3239 - loss: 2.1354 - val_accuracy: 0.4387 - val_loss: 1.7560\n",
            "Epoch 4/100\n",
            "\u001b[1m471/471\u001b[0m \u001b[32m━━━━━━━━━━━━━━━━━━━━\u001b[0m\u001b[37m\u001b[0m \u001b[1m206s\u001b[0m 437ms/step - accuracy: 0.3568 - loss: 2.0131 - val_accuracy: 0.4377 - val_loss: 1.7248\n",
            "Epoch 5/100\n",
            "\u001b[1m471/471\u001b[0m \u001b[32m━━━━━━━━━━━━━━━━━━━━\u001b[0m\u001b[37m\u001b[0m \u001b[1m205s\u001b[0m 436ms/step - accuracy: 0.3812 - loss: 1.9387 - val_accuracy: 0.4613 - val_loss: 1.6688\n",
            "Epoch 6/100\n",
            "\u001b[1m471/471\u001b[0m \u001b[32m━━━━━━━━━━━━━━━━━━━━\u001b[0m\u001b[37m\u001b[0m \u001b[1m206s\u001b[0m 437ms/step - accuracy: 0.4084 - loss: 1.8470 - val_accuracy: 0.4800 - val_loss: 1.6149\n",
            "Epoch 7/100\n",
            "\u001b[1m471/471\u001b[0m \u001b[32m━━━━━━━━━━━━━━━━━━━━\u001b[0m\u001b[37m\u001b[0m \u001b[1m206s\u001b[0m 437ms/step - accuracy: 0.4144 - loss: 1.8035 - val_accuracy: 0.5192 - val_loss: 1.5053\n",
            "Epoch 8/100\n",
            "\u001b[1m471/471\u001b[0m \u001b[32m━━━━━━━━━━━━━━━━━━━━\u001b[0m\u001b[37m\u001b[0m \u001b[1m207s\u001b[0m 439ms/step - accuracy: 0.4269 - loss: 1.7491 - val_accuracy: 0.5349 - val_loss: 1.4372\n",
            "Epoch 9/100\n",
            "\u001b[1m471/471\u001b[0m \u001b[32m━━━━━━━━━━━━━━━━━━━━\u001b[0m\u001b[37m\u001b[0m \u001b[1m206s\u001b[0m 438ms/step - accuracy: 0.4591 - loss: 1.6847 - val_accuracy: 0.5579 - val_loss: 1.3641\n",
            "Epoch 10/100\n",
            "\u001b[1m471/471\u001b[0m \u001b[32m━━━━━━━━━━━━━━━━━━━━\u001b[0m\u001b[37m\u001b[0m \u001b[1m206s\u001b[0m 437ms/step - accuracy: 0.4559 - loss: 1.6422 - val_accuracy: 0.5772 - val_loss: 1.3279\n",
            "Epoch 11/100\n",
            "\u001b[1m471/471\u001b[0m \u001b[32m━━━━━━━━━━━━━━━━━━━━\u001b[0m\u001b[37m\u001b[0m \u001b[1m205s\u001b[0m 436ms/step - accuracy: 0.4769 - loss: 1.5992 - val_accuracy: 0.5634 - val_loss: 1.3593\n",
            "Epoch 12/100\n",
            "\u001b[1m471/471\u001b[0m \u001b[32m━━━━━━━━━━━━━━━━━━━━\u001b[0m\u001b[37m\u001b[0m \u001b[1m206s\u001b[0m 436ms/step - accuracy: 0.4885 - loss: 1.5662 - val_accuracy: 0.5748 - val_loss: 1.3280\n",
            "Epoch 13/100\n",
            "\u001b[1m471/471\u001b[0m \u001b[32m━━━━━━━━━━━━━━━━━━━━\u001b[0m\u001b[37m\u001b[0m \u001b[1m205s\u001b[0m 435ms/step - accuracy: 0.5003 - loss: 1.5134 - val_accuracy: 0.5724 - val_loss: 1.3029\n",
            "Epoch 14/100\n",
            "\u001b[1m471/471\u001b[0m \u001b[32m━━━━━━━━━━━━━━━━━━━━\u001b[0m\u001b[37m\u001b[0m \u001b[1m205s\u001b[0m 436ms/step - accuracy: 0.5148 - loss: 1.4580 - val_accuracy: 0.5990 - val_loss: 1.2354\n",
            "Epoch 15/100\n",
            "\u001b[1m471/471\u001b[0m \u001b[32m━━━━━━━━━━━━━━━━━━━━\u001b[0m\u001b[37m\u001b[0m \u001b[1m206s\u001b[0m 437ms/step - accuracy: 0.5363 - loss: 1.4114 - val_accuracy: 0.6000 - val_loss: 1.2686\n",
            "Epoch 16/100\n",
            "\u001b[1m471/471\u001b[0m \u001b[32m━━━━━━━━━━━━━━━━━━━━\u001b[0m\u001b[37m\u001b[0m \u001b[1m205s\u001b[0m 436ms/step - accuracy: 0.5383 - loss: 1.3972 - val_accuracy: 0.6002 - val_loss: 1.2415\n",
            "Epoch 17/100\n",
            "\u001b[1m471/471\u001b[0m \u001b[32m━━━━━━━━━━━━━━━━━━━━\u001b[0m\u001b[37m\u001b[0m \u001b[1m205s\u001b[0m 436ms/step - accuracy: 0.5450 - loss: 1.3701 - val_accuracy: 0.6207 - val_loss: 1.1757\n",
            "Epoch 18/100\n",
            "\u001b[1m471/471\u001b[0m \u001b[32m━━━━━━━━━━━━━━━━━━━━\u001b[0m\u001b[37m\u001b[0m \u001b[1m207s\u001b[0m 439ms/step - accuracy: 0.5608 - loss: 1.3076 - val_accuracy: 0.5818 - val_loss: 1.3041\n",
            "Epoch 19/100\n",
            "\u001b[1m471/471\u001b[0m \u001b[32m━━━━━━━━━━━━━━━━━━━━\u001b[0m\u001b[37m\u001b[0m \u001b[1m205s\u001b[0m 436ms/step - accuracy: 0.5634 - loss: 1.3047 - val_accuracy: 0.6429 - val_loss: 1.0834\n",
            "Epoch 20/100\n",
            "\u001b[1m471/471\u001b[0m \u001b[32m━━━━━━━━━━━━━━━━━━━━\u001b[0m\u001b[37m\u001b[0m \u001b[1m205s\u001b[0m 435ms/step - accuracy: 0.5696 - loss: 1.2965 - val_accuracy: 0.6239 - val_loss: 1.1650\n",
            "Epoch 21/100\n",
            "\u001b[1m471/471\u001b[0m \u001b[32m━━━━━━━━━━━━━━━━━━━━\u001b[0m\u001b[37m\u001b[0m \u001b[1m204s\u001b[0m 434ms/step - accuracy: 0.5723 - loss: 1.2652 - val_accuracy: 0.6580 - val_loss: 1.0287\n",
            "Epoch 22/100\n",
            "\u001b[1m471/471\u001b[0m \u001b[32m━━━━━━━━━━━━━━━━━━━━\u001b[0m\u001b[37m\u001b[0m \u001b[1m205s\u001b[0m 434ms/step - accuracy: 0.5783 - loss: 1.2612 - val_accuracy: 0.6660 - val_loss: 1.0214\n",
            "Epoch 23/100\n",
            "\u001b[1m471/471\u001b[0m \u001b[32m━━━━━━━━━━━━━━━━━━━━\u001b[0m\u001b[37m\u001b[0m \u001b[1m205s\u001b[0m 435ms/step - accuracy: 0.5955 - loss: 1.2012 - val_accuracy: 0.6578 - val_loss: 1.0648\n",
            "Epoch 24/100\n",
            "\u001b[1m471/471\u001b[0m \u001b[32m━━━━━━━━━━━━━━━━━━━━\u001b[0m\u001b[37m\u001b[0m \u001b[1m204s\u001b[0m 434ms/step - accuracy: 0.6026 - loss: 1.1803 - val_accuracy: 0.6540 - val_loss: 1.1066\n",
            "Epoch 25/100\n",
            "\u001b[1m471/471\u001b[0m \u001b[32m━━━━━━━━━━━━━━━━━━━━\u001b[0m\u001b[37m\u001b[0m \u001b[1m205s\u001b[0m 435ms/step - accuracy: 0.6006 - loss: 1.1770 - val_accuracy: 0.6381 - val_loss: 1.1576\n",
            "Epoch 26/100\n",
            "\u001b[1m471/471\u001b[0m \u001b[32m━━━━━━━━━━━━━━━━━━━━\u001b[0m\u001b[37m\u001b[0m \u001b[1m204s\u001b[0m 434ms/step - accuracy: 0.6006 - loss: 1.1858 - val_accuracy: 0.6644 - val_loss: 1.0182\n",
            "Epoch 27/100\n",
            "\u001b[1m471/471\u001b[0m \u001b[32m━━━━━━━━━━━━━━━━━━━━\u001b[0m\u001b[37m\u001b[0m \u001b[1m204s\u001b[0m 434ms/step - accuracy: 0.6025 - loss: 1.1788 - val_accuracy: 0.6662 - val_loss: 1.0742\n",
            "Epoch 28/100\n",
            "\u001b[1m471/471\u001b[0m \u001b[32m━━━━━━━━━━━━━━━━━━━━\u001b[0m\u001b[37m\u001b[0m \u001b[1m205s\u001b[0m 434ms/step - accuracy: 0.6056 - loss: 1.1477 - val_accuracy: 0.6193 - val_loss: 1.2848\n",
            "Epoch 29/100\n",
            "\u001b[1m471/471\u001b[0m \u001b[32m━━━━━━━━━━━━━━━━━━━━\u001b[0m\u001b[37m\u001b[0m \u001b[1m205s\u001b[0m 435ms/step - accuracy: 0.6139 - loss: 1.1128 - val_accuracy: 0.6371 - val_loss: 1.1086\n",
            "Epoch 30/100\n",
            "\u001b[1m471/471\u001b[0m \u001b[32m━━━━━━━━━━━━━━━━━━━━\u001b[0m\u001b[37m\u001b[0m \u001b[1m204s\u001b[0m 432ms/step - accuracy: 0.6159 - loss: 1.1042 - val_accuracy: 0.6620 - val_loss: 1.0350\n",
            "Epoch 31/100\n",
            "\u001b[1m471/471\u001b[0m \u001b[32m━━━━━━━━━━━━━━━━━━━━\u001b[0m\u001b[37m\u001b[0m \u001b[1m204s\u001b[0m 433ms/step - accuracy: 0.6322 - loss: 1.0657 - val_accuracy: 0.6838 - val_loss: 0.9762\n",
            "Epoch 32/100\n",
            "\u001b[1m471/471\u001b[0m \u001b[32m━━━━━━━━━━━━━━━━━━━━\u001b[0m\u001b[37m\u001b[0m \u001b[1m205s\u001b[0m 436ms/step - accuracy: 0.6247 - loss: 1.0928 - val_accuracy: 0.6780 - val_loss: 1.0293\n",
            "Epoch 33/100\n",
            "\u001b[1m471/471\u001b[0m \u001b[32m━━━━━━━━━━━━━━━━━━━━\u001b[0m\u001b[37m\u001b[0m \u001b[1m205s\u001b[0m 434ms/step - accuracy: 0.6345 - loss: 1.0753 - val_accuracy: 0.6708 - val_loss: 1.1313\n",
            "Epoch 34/100\n",
            "\u001b[1m471/471\u001b[0m \u001b[32m━━━━━━━━━━━━━━━━━━━━\u001b[0m\u001b[37m\u001b[0m \u001b[1m205s\u001b[0m 435ms/step - accuracy: 0.6429 - loss: 1.0480 - val_accuracy: 0.6606 - val_loss: 1.2197\n",
            "Epoch 35/100\n",
            "\u001b[1m471/471\u001b[0m \u001b[32m━━━━━━━━━━━━━━━━━━━━\u001b[0m\u001b[37m\u001b[0m \u001b[1m205s\u001b[0m 435ms/step - accuracy: 0.6340 - loss: 1.0878 - val_accuracy: 0.6708 - val_loss: 1.0890\n",
            "Epoch 36/100\n",
            "\u001b[1m471/471\u001b[0m \u001b[32m━━━━━━━━━━━━━━━━━━━━\u001b[0m\u001b[37m\u001b[0m \u001b[1m205s\u001b[0m 435ms/step - accuracy: 0.6511 - loss: 1.0361 - val_accuracy: 0.6596 - val_loss: 1.1819\n"
          ]
        }
      ],
      "source": [
        "early_stopping = EarlyStopping(monitor='val_loss', patience=5, restore_best_weights=True)\n",
        "\n",
        "history = model.fit(\n",
        "    train_dataset,\n",
        "    validation_data=validation_dataset,\n",
        "    epochs=100,\n",
        "    callbacks=[early_stopping]\n",
        ")"
      ]
    },
    {
      "cell_type": "code",
      "execution_count": null,
      "metadata": {
        "colab": {
          "base_uri": "https://localhost:8080/",
          "height": 262
        },
        "id": "1EhDwVBaEvXD",
        "outputId": "36fa56c9-0736-4232-834e-4632ccf96a93"
      },
      "outputs": [
        {
          "data": {
            "image/png": "[encoded data removed]",
            "text/plain": [
              "<Figure size 1200x400 with 2 Axes>"
            ]
          },
          "metadata": {},
          "output_type": "display_data"
        }
      ],
      "source": [
        "# Gráfica de precisión y pérdida\n",
        "plt.figure(figsize=(12, 4))\n",
        "\n",
        "plt.subplot(1, 2, 1)\n",
        "plt.plot(history.history['accuracy'], label='Entrenamiento')\n",
        "plt.plot(history.history['val_accuracy'], label='Validación')\n",
        "plt.xlabel('Épocas')\n",
        "plt.ylabel('Precisión')\n",
        "plt.legend()\n",
        "\n",
        "plt.subplot(1, 2, 2)\n",
        "plt.plot(history.history['loss'], label='Entrenamiento')\n",
        "plt.plot(history.history['val_loss'], label='Validación')\n",
        "plt.xlabel('Épocas')\n",
        "plt.ylabel('Pérdida')\n",
        "plt.legend()\n",
        "\n",
        "plt.show()\n"
      ]
    },
    {
      "cell_type": "markdown",
      "metadata": {
        "id": "KwfZO_OFr6MR"
      },
      "source": [
        "*Evaluación*\n",
        "\n",
        "Al final del entrenamiento, el modelo logró una precisión de validación del 68%. Lo que indica una capacidad inicial adecuada para distinguir entre las clases del dataset. Sin embargo, existen áreas de mejora evidentes, como la complejidad del modelo y el manejo de desbalances en las clases."
      ]
    },
    {
      "cell_type": "code",
      "execution_count": null,
      "metadata": {
        "colab": {
          "base_uri": "https://localhost:8080/"
        },
        "id": "2qxCDeL4YVdp",
        "outputId": "61c89d59-a838-45e3-bc07-0e742c1454d7"
      },
      "outputs": [
        {
          "name": "stdout",
          "output_type": "stream",
          "text": [
            "\u001b[1m157/157\u001b[0m \u001b[32m━━━━━━━━━━━━━━━━━━━━\u001b[0m\u001b[37m\u001b[0m \u001b[1m17s\u001b[0m 105ms/step - accuracy: 0.6974 - loss: 0.9471\n",
            "Precisión en validación: 0.68\n"
          ]
        }
      ],
      "source": [
        "# Evaluación en el conjunto de validación\n",
        "loss, accuracy = model.evaluate(validation_dataset)\n",
        "print(f\"Precisión en validación: {accuracy:.2f}\")"
      ]
    },
    {
      "cell_type": "code",
      "execution_count": null,
      "metadata": {
        "colab": {
          "base_uri": "https://localhost:8080/",
          "height": 228
        },
        "id": "Ta9PfZkfYVdp",
        "outputId": "be5527ac-a20b-4e5a-f306-a015824a71ae"
      },
      "outputs": [
        {
          "name": "stdout",
          "output_type": "stream",
          "text": [
            "\u001b[1m158/158\u001b[0m \u001b[32m━━━━━━━━━━━━━━━━━━━━\u001b[0m\u001b[37m\u001b[0m \u001b[1m19s\u001b[0m 119ms/step\n",
            "Precisión en test: 0.6730007917656373\n",
            "\n",
            "Reporte de clasificación:\n",
            "                            precision    recall  f1-score   support\n",
            "\n",
            "       anthracnose-cashew       0.76      0.67      0.71       347\n",
            " bacterial blight-cassava       0.60      0.74      0.66       524\n",
            "       brown spot-cassava       0.64      0.79      0.71       297\n",
            "    cashew-mosaic-cassava       0.77      0.73      0.75       241\n",
            "      fall armyworm-maize       0.47      0.16      0.24        57\n",
            "         grasshoper-maize       0.58      0.67      0.62       136\n",
            "       green mite-cassava       0.62      0.77      0.69       203\n",
            "           gumosis-cashew       0.85      0.80      0.82        79\n",
            "           healthy-cashew       0.85      0.71      0.78       275\n",
            "          healthy-cassava       0.87      0.81      0.84       240\n",
            "            healthy-maize       0.55      0.15      0.23        41\n",
            "           healthy-tomato       0.80      0.38      0.51        95\n",
            "        leaf beetle-maize       0.91      0.78      0.84       189\n",
            "        leaf blight-maize       0.54      0.54      0.54       200\n",
            "       leaf blight-tomato       0.43      0.40      0.41       260\n",
            "         leaf curl-tomato       0.64      0.20      0.31       103\n",
            "        leaf miner-cashew       0.76      0.76      0.76       277\n",
            "          leaf spot-maize       0.55      0.48      0.51       250\n",
            "          red rust-cashew       0.93      0.92      0.92       337\n",
            "septoria leaf spot-tomato       0.58      0.84      0.69       550\n",
            "       streak virus-maize       0.58      0.69      0.63       195\n",
            "  verticulium wilt-tomato       0.67      0.03      0.05       156\n",
            "\n",
            "                 accuracy                           0.67      5052\n",
            "                macro avg       0.68      0.59      0.60      5052\n",
            "             weighted avg       0.68      0.67      0.66      5052\n",
            "\n"
          ]
        }
      ],
      "source": [
        "# Obtener las predicciones en el conjunto de prueba\n",
        "predictions = model.predict(test_dataset)\n",
        "\n",
        "# Convertir las predicciones a etiquetas\n",
        "predicted_classes = np.argmax(predictions, axis=1)\n",
        "\n",
        "# Obtener las etiquetas reales del generador de prueba\n",
        "true_classes = np.concatenate([y.numpy() for _, y in test_dataset]) # Removed np.argmax and axis=1\n",
        "\n",
        "# Mostrar algunas métricas de evaluación\n",
        "from sklearn.metrics import accuracy_score, classification_report, confusion_matrix\n",
        "print(\"Precisión en test:\", accuracy_score(true_classes, predicted_classes))\n",
        "print(\"\\nReporte de clasificación:\\n\", classification_report(true_classes, predicted_classes, target_names=class_labels)) # Now use class_labels!"
      ]
    },
    {
      "cell_type": "markdown",
      "metadata": {
        "id": "npBzpCZG3WMT"
      },
      "source": [
        "----"
      ]
    },
    {
      "cell_type": "markdown",
      "metadata": {
        "id": "YodcHiQRCjCo"
      },
      "source": [
        "**Ajuste del modelo**\n",
        "\n",
        "Para la mejora del modelo se tiene una una arquitectura más compleja en comparación con el primero, con el objetivo de mejorar la capacidad del modelo para aprender características más profundas de las imágenes."
      ]
    },
    {
      "cell_type": "markdown",
      "metadata": {
        "id": "r9vB-5gh0fx_"
      },
      "source": [
        "**Desarrollo del modelo**\n",
        "\n",
        "*Arquitectura*\n",
        "\n",
        "El modelo consta de las siguientes capas:\n",
        "\n",
        "Capa de entrada: Recibe imágenes de tamaño 224x224 píxeles. Se aplica un preprocesamiento con data augmentation que incluye:\n",
        "\n",
        "* Volteo horizontal aleatorio\n",
        "* Rotación aleatoria de hasta el 30%\n",
        "* Zoom aleatorio de hasta el 40%\n",
        "* Ajuste aleatorio de altura y anchura (hasta el 30%).\n",
        "* Ajuste aleatorio de contraste y brillo (hasta el 40%)\n",
        "* Escalado de píxeles a un rango de 0-1.\n",
        "\n",
        "\n",
        "Capas convolucionales: Se utilizan 5 bloques convolucionales, cada uno con una capa Conv2D seguida de una capa MaxPooling2D. El número de filtros en las capas Conv2D aumenta progresivamente (32, 64, 128, 256, 512) para extraer características cada vez más complejas.\n",
        "\n",
        "Aplanamiento: La salida de las capas convolucionales se aplana con Flatten para ser procesada por capas densas.\n",
        "\n",
        "Capas densas (se utilizan dos capas densas):\n",
        "\n",
        "Una capa oculta con 128 neuronas y activación ReLU. Una capa de salida con 22 neuronas (correspondientes a las 22 clases de enfermedades) y activación softmax para obtener probabilidades para cada clase.\n",
        "Se aplica Dropout (0.3) para regularizar el modelo y prevenir el sobreajuste."
      ]
    },
    {
      "cell_type": "code",
      "execution_count": null,
      "metadata": {
        "colab": {
          "base_uri": "https://localhost:8080/",
          "height": 514
        },
        "id": "D8zyXD9dM2i_",
        "outputId": "2928b712-4cef-43d5-e85b-fea48eb3c4ca"
      },
      "outputs": [
        {
          "data": {
            "text/html": [
              "<pre style=\"white-space:pre;overflow-x:auto;line-height:normal;font-family:Menlo,'DejaVu Sans Mono',consolas,'Courier New',monospace\"><span style=\"font-weight: bold\">Model: \"sequential_5\"</span>\n",
              "</pre>\n"
            ],
            "text/plain": [
              "\u001b[1mModel: \"sequential_5\"\u001b[0m\n"
            ]
          },
          "metadata": {},
          "output_type": "display_data"
        },
        {
          "data": {
            "text/html": [
              "<pre style=\"white-space:pre;overflow-x:auto;line-height:normal;font-family:Menlo,'DejaVu Sans Mono',consolas,'Courier New',monospace\">┏━━━━━━━━━━━━━━━━━━━━━━━━━━━━━━━━━┳━━━━━━━━━━━━━━━━━━━━━━━━┳━━━━━━━━━━━━━━━┓\n",
              "┃<span style=\"font-weight: bold\"> Layer (type)                    </span>┃<span style=\"font-weight: bold\"> Output Shape           </span>┃<span style=\"font-weight: bold\">       Param # </span>┃\n",
              "┡━━━━━━━━━━━━━━━━━━━━━━━━━━━━━━━━━╇━━━━━━━━━━━━━━━━━━━━━━━━╇━━━━━━━━━━━━━━━┩\n",
              "│ sequential_4 (<span style=\"color: #0087ff; text-decoration-color: #0087ff\">Sequential</span>)       │ (<span style=\"color: #00d7ff; text-decoration-color: #00d7ff\">None</span>, <span style=\"color: #00af00; text-decoration-color: #00af00\">224</span>, <span style=\"color: #00af00; text-decoration-color: #00af00\">224</span>, <span style=\"color: #00af00; text-decoration-color: #00af00\">3</span>)    │             <span style=\"color: #00af00; text-decoration-color: #00af00\">0</span> │\n",
              "├─────────────────────────────────┼────────────────────────┼───────────────┤\n",
              "│ rescaling_2 (<span style=\"color: #0087ff; text-decoration-color: #0087ff\">Rescaling</span>)         │ (<span style=\"color: #00d7ff; text-decoration-color: #00d7ff\">None</span>, <span style=\"color: #00af00; text-decoration-color: #00af00\">224</span>, <span style=\"color: #00af00; text-decoration-color: #00af00\">224</span>, <span style=\"color: #00af00; text-decoration-color: #00af00\">3</span>)    │             <span style=\"color: #00af00; text-decoration-color: #00af00\">0</span> │\n",
              "├─────────────────────────────────┼────────────────────────┼───────────────┤\n",
              "│ conv2d_8 (<span style=\"color: #0087ff; text-decoration-color: #0087ff\">Conv2D</span>)               │ (<span style=\"color: #00d7ff; text-decoration-color: #00d7ff\">None</span>, <span style=\"color: #00af00; text-decoration-color: #00af00\">222</span>, <span style=\"color: #00af00; text-decoration-color: #00af00\">222</span>, <span style=\"color: #00af00; text-decoration-color: #00af00\">32</span>)   │           <span style=\"color: #00af00; text-decoration-color: #00af00\">896</span> │\n",
              "├─────────────────────────────────┼────────────────────────┼───────────────┤\n",
              "│ max_pooling2d_8 (<span style=\"color: #0087ff; text-decoration-color: #0087ff\">MaxPooling2D</span>)  │ (<span style=\"color: #00d7ff; text-decoration-color: #00d7ff\">None</span>, <span style=\"color: #00af00; text-decoration-color: #00af00\">111</span>, <span style=\"color: #00af00; text-decoration-color: #00af00\">111</span>, <span style=\"color: #00af00; text-decoration-color: #00af00\">32</span>)   │             <span style=\"color: #00af00; text-decoration-color: #00af00\">0</span> │\n",
              "├─────────────────────────────────┼────────────────────────┼───────────────┤\n",
              "│ conv2d_9 (<span style=\"color: #0087ff; text-decoration-color: #0087ff\">Conv2D</span>)               │ (<span style=\"color: #00d7ff; text-decoration-color: #00d7ff\">None</span>, <span style=\"color: #00af00; text-decoration-color: #00af00\">109</span>, <span style=\"color: #00af00; text-decoration-color: #00af00\">109</span>, <span style=\"color: #00af00; text-decoration-color: #00af00\">64</span>)   │        <span style=\"color: #00af00; text-decoration-color: #00af00\">18,496</span> │\n",
              "├─────────────────────────────────┼────────────────────────┼───────────────┤\n",
              "│ max_pooling2d_9 (<span style=\"color: #0087ff; text-decoration-color: #0087ff\">MaxPooling2D</span>)  │ (<span style=\"color: #00d7ff; text-decoration-color: #00d7ff\">None</span>, <span style=\"color: #00af00; text-decoration-color: #00af00\">54</span>, <span style=\"color: #00af00; text-decoration-color: #00af00\">54</span>, <span style=\"color: #00af00; text-decoration-color: #00af00\">64</span>)     │             <span style=\"color: #00af00; text-decoration-color: #00af00\">0</span> │\n",
              "├─────────────────────────────────┼────────────────────────┼───────────────┤\n",
              "│ conv2d_10 (<span style=\"color: #0087ff; text-decoration-color: #0087ff\">Conv2D</span>)              │ (<span style=\"color: #00d7ff; text-decoration-color: #00d7ff\">None</span>, <span style=\"color: #00af00; text-decoration-color: #00af00\">52</span>, <span style=\"color: #00af00; text-decoration-color: #00af00\">52</span>, <span style=\"color: #00af00; text-decoration-color: #00af00\">128</span>)    │        <span style=\"color: #00af00; text-decoration-color: #00af00\">73,856</span> │\n",
              "├─────────────────────────────────┼────────────────────────┼───────────────┤\n",
              "│ max_pooling2d_10 (<span style=\"color: #0087ff; text-decoration-color: #0087ff\">MaxPooling2D</span>) │ (<span style=\"color: #00d7ff; text-decoration-color: #00d7ff\">None</span>, <span style=\"color: #00af00; text-decoration-color: #00af00\">26</span>, <span style=\"color: #00af00; text-decoration-color: #00af00\">26</span>, <span style=\"color: #00af00; text-decoration-color: #00af00\">128</span>)    │             <span style=\"color: #00af00; text-decoration-color: #00af00\">0</span> │\n",
              "├─────────────────────────────────┼────────────────────────┼───────────────┤\n",
              "│ conv2d_11 (<span style=\"color: #0087ff; text-decoration-color: #0087ff\">Conv2D</span>)              │ (<span style=\"color: #00d7ff; text-decoration-color: #00d7ff\">None</span>, <span style=\"color: #00af00; text-decoration-color: #00af00\">24</span>, <span style=\"color: #00af00; text-decoration-color: #00af00\">24</span>, <span style=\"color: #00af00; text-decoration-color: #00af00\">256</span>)    │       <span style=\"color: #00af00; text-decoration-color: #00af00\">295,168</span> │\n",
              "├─────────────────────────────────┼────────────────────────┼───────────────┤\n",
              "│ max_pooling2d_11 (<span style=\"color: #0087ff; text-decoration-color: #0087ff\">MaxPooling2D</span>) │ (<span style=\"color: #00d7ff; text-decoration-color: #00d7ff\">None</span>, <span style=\"color: #00af00; text-decoration-color: #00af00\">12</span>, <span style=\"color: #00af00; text-decoration-color: #00af00\">12</span>, <span style=\"color: #00af00; text-decoration-color: #00af00\">256</span>)    │             <span style=\"color: #00af00; text-decoration-color: #00af00\">0</span> │\n",
              "├─────────────────────────────────┼────────────────────────┼───────────────┤\n",
              "│ conv2d_12 (<span style=\"color: #0087ff; text-decoration-color: #0087ff\">Conv2D</span>)              │ (<span style=\"color: #00d7ff; text-decoration-color: #00d7ff\">None</span>, <span style=\"color: #00af00; text-decoration-color: #00af00\">10</span>, <span style=\"color: #00af00; text-decoration-color: #00af00\">10</span>, <span style=\"color: #00af00; text-decoration-color: #00af00\">512</span>)    │     <span style=\"color: #00af00; text-decoration-color: #00af00\">1,180,160</span> │\n",
              "├─────────────────────────────────┼────────────────────────┼───────────────┤\n",
              "│ max_pooling2d_12 (<span style=\"color: #0087ff; text-decoration-color: #0087ff\">MaxPooling2D</span>) │ (<span style=\"color: #00d7ff; text-decoration-color: #00d7ff\">None</span>, <span style=\"color: #00af00; text-decoration-color: #00af00\">5</span>, <span style=\"color: #00af00; text-decoration-color: #00af00\">5</span>, <span style=\"color: #00af00; text-decoration-color: #00af00\">512</span>)      │             <span style=\"color: #00af00; text-decoration-color: #00af00\">0</span> │\n",
              "├─────────────────────────────────┼────────────────────────┼───────────────┤\n",
              "│ flatten_2 (<span style=\"color: #0087ff; text-decoration-color: #0087ff\">Flatten</span>)             │ (<span style=\"color: #00d7ff; text-decoration-color: #00d7ff\">None</span>, <span style=\"color: #00af00; text-decoration-color: #00af00\">12800</span>)          │             <span style=\"color: #00af00; text-decoration-color: #00af00\">0</span> │\n",
              "├─────────────────────────────────┼────────────────────────┼───────────────┤\n",
              "│ dense_4 (<span style=\"color: #0087ff; text-decoration-color: #0087ff\">Dense</span>)                 │ (<span style=\"color: #00d7ff; text-decoration-color: #00d7ff\">None</span>, <span style=\"color: #00af00; text-decoration-color: #00af00\">128</span>)            │     <span style=\"color: #00af00; text-decoration-color: #00af00\">1,638,528</span> │\n",
              "├─────────────────────────────────┼────────────────────────┼───────────────┤\n",
              "│ dropout_2 (<span style=\"color: #0087ff; text-decoration-color: #0087ff\">Dropout</span>)             │ (<span style=\"color: #00d7ff; text-decoration-color: #00d7ff\">None</span>, <span style=\"color: #00af00; text-decoration-color: #00af00\">128</span>)            │             <span style=\"color: #00af00; text-decoration-color: #00af00\">0</span> │\n",
              "├─────────────────────────────────┼────────────────────────┼───────────────┤\n",
              "│ dense_5 (<span style=\"color: #0087ff; text-decoration-color: #0087ff\">Dense</span>)                 │ (<span style=\"color: #00d7ff; text-decoration-color: #00d7ff\">None</span>, <span style=\"color: #00af00; text-decoration-color: #00af00\">22</span>)             │         <span style=\"color: #00af00; text-decoration-color: #00af00\">2,838</span> │\n",
              "└─────────────────────────────────┴────────────────────────┴───────────────┘\n",
              "</pre>\n"
            ],
            "text/plain": [
              "┏━━━━━━━━━━━━━━━━━━━━━━━━━━━━━━━━━┳━━━━━━━━━━━━━━━━━━━━━━━━┳━━━━━━━━━━━━━━━┓\n",
              "┃\u001b[1m \u001b[0m\u001b[1mLayer (type)                   \u001b[0m\u001b[1m \u001b[0m┃\u001b[1m \u001b[0m\u001b[1mOutput Shape          \u001b[0m\u001b[1m \u001b[0m┃\u001b[1m \u001b[0m\u001b[1m      Param #\u001b[0m\u001b[1m \u001b[0m┃\n",
              "┡━━━━━━━━━━━━━━━━━━━━━━━━━━━━━━━━━╇━━━━━━━━━━━━━━━━━━━━━━━━╇━━━━━━━━━━━━━━━┩\n",
              "│ sequential_4 (\u001b[38;5;33mSequential\u001b[0m)       │ (\u001b[38;5;45mNone\u001b[0m, \u001b[38;5;34m224\u001b[0m, \u001b[38;5;34m224\u001b[0m, \u001b[38;5;34m3\u001b[0m)    │             \u001b[38;5;34m0\u001b[0m │\n",
              "├─────────────────────────────────┼────────────────────────┼───────────────┤\n",
              "│ rescaling_2 (\u001b[38;5;33mRescaling\u001b[0m)         │ (\u001b[38;5;45mNone\u001b[0m, \u001b[38;5;34m224\u001b[0m, \u001b[38;5;34m224\u001b[0m, \u001b[38;5;34m3\u001b[0m)    │             \u001b[38;5;34m0\u001b[0m │\n",
              "├─────────────────────────────────┼────────────────────────┼───────────────┤\n",
              "│ conv2d_8 (\u001b[38;5;33mConv2D\u001b[0m)               │ (\u001b[38;5;45mNone\u001b[0m, \u001b[38;5;34m222\u001b[0m, \u001b[38;5;34m222\u001b[0m, \u001b[38;5;34m32\u001b[0m)   │           \u001b[38;5;34m896\u001b[0m │\n",
              "├─────────────────────────────────┼────────────────────────┼───────────────┤\n",
              "│ max_pooling2d_8 (\u001b[38;5;33mMaxPooling2D\u001b[0m)  │ (\u001b[38;5;45mNone\u001b[0m, \u001b[38;5;34m111\u001b[0m, \u001b[38;5;34m111\u001b[0m, \u001b[38;5;34m32\u001b[0m)   │             \u001b[38;5;34m0\u001b[0m │\n",
              "├─────────────────────────────────┼────────────────────────┼───────────────┤\n",
              "│ conv2d_9 (\u001b[38;5;33mConv2D\u001b[0m)               │ (\u001b[38;5;45mNone\u001b[0m, \u001b[38;5;34m109\u001b[0m, \u001b[38;5;34m109\u001b[0m, \u001b[38;5;34m64\u001b[0m)   │        \u001b[38;5;34m18,496\u001b[0m │\n",
              "├─────────────────────────────────┼────────────────────────┼───────────────┤\n",
              "│ max_pooling2d_9 (\u001b[38;5;33mMaxPooling2D\u001b[0m)  │ (\u001b[38;5;45mNone\u001b[0m, \u001b[38;5;34m54\u001b[0m, \u001b[38;5;34m54\u001b[0m, \u001b[38;5;34m64\u001b[0m)     │             \u001b[38;5;34m0\u001b[0m │\n",
              "├─────────────────────────────────┼────────────────────────┼───────────────┤\n",
              "│ conv2d_10 (\u001b[38;5;33mConv2D\u001b[0m)              │ (\u001b[38;5;45mNone\u001b[0m, \u001b[38;5;34m52\u001b[0m, \u001b[38;5;34m52\u001b[0m, \u001b[38;5;34m128\u001b[0m)    │        \u001b[38;5;34m73,856\u001b[0m │\n",
              "├─────────────────────────────────┼────────────────────────┼───────────────┤\n",
              "│ max_pooling2d_10 (\u001b[38;5;33mMaxPooling2D\u001b[0m) │ (\u001b[38;5;45mNone\u001b[0m, \u001b[38;5;34m26\u001b[0m, \u001b[38;5;34m26\u001b[0m, \u001b[38;5;34m128\u001b[0m)    │             \u001b[38;5;34m0\u001b[0m │\n",
              "├─────────────────────────────────┼────────────────────────┼───────────────┤\n",
              "│ conv2d_11 (\u001b[38;5;33mConv2D\u001b[0m)              │ (\u001b[38;5;45mNone\u001b[0m, \u001b[38;5;34m24\u001b[0m, \u001b[38;5;34m24\u001b[0m, \u001b[38;5;34m256\u001b[0m)    │       \u001b[38;5;34m295,168\u001b[0m │\n",
              "├─────────────────────────────────┼────────────────────────┼───────────────┤\n",
              "│ max_pooling2d_11 (\u001b[38;5;33mMaxPooling2D\u001b[0m) │ (\u001b[38;5;45mNone\u001b[0m, \u001b[38;5;34m12\u001b[0m, \u001b[38;5;34m12\u001b[0m, \u001b[38;5;34m256\u001b[0m)    │             \u001b[38;5;34m0\u001b[0m │\n",
              "├─────────────────────────────────┼────────────────────────┼───────────────┤\n",
              "│ conv2d_12 (\u001b[38;5;33mConv2D\u001b[0m)              │ (\u001b[38;5;45mNone\u001b[0m, \u001b[38;5;34m10\u001b[0m, \u001b[38;5;34m10\u001b[0m, \u001b[38;5;34m512\u001b[0m)    │     \u001b[38;5;34m1,180,160\u001b[0m │\n",
              "├─────────────────────────────────┼────────────────────────┼───────────────┤\n",
              "│ max_pooling2d_12 (\u001b[38;5;33mMaxPooling2D\u001b[0m) │ (\u001b[38;5;45mNone\u001b[0m, \u001b[38;5;34m5\u001b[0m, \u001b[38;5;34m5\u001b[0m, \u001b[38;5;34m512\u001b[0m)      │             \u001b[38;5;34m0\u001b[0m │\n",
              "├─────────────────────────────────┼────────────────────────┼───────────────┤\n",
              "│ flatten_2 (\u001b[38;5;33mFlatten\u001b[0m)             │ (\u001b[38;5;45mNone\u001b[0m, \u001b[38;5;34m12800\u001b[0m)          │             \u001b[38;5;34m0\u001b[0m │\n",
              "├─────────────────────────────────┼────────────────────────┼───────────────┤\n",
              "│ dense_4 (\u001b[38;5;33mDense\u001b[0m)                 │ (\u001b[38;5;45mNone\u001b[0m, \u001b[38;5;34m128\u001b[0m)            │     \u001b[38;5;34m1,638,528\u001b[0m │\n",
              "├─────────────────────────────────┼────────────────────────┼───────────────┤\n",
              "│ dropout_2 (\u001b[38;5;33mDropout\u001b[0m)             │ (\u001b[38;5;45mNone\u001b[0m, \u001b[38;5;34m128\u001b[0m)            │             \u001b[38;5;34m0\u001b[0m │\n",
              "├─────────────────────────────────┼────────────────────────┼───────────────┤\n",
              "│ dense_5 (\u001b[38;5;33mDense\u001b[0m)                 │ (\u001b[38;5;45mNone\u001b[0m, \u001b[38;5;34m22\u001b[0m)             │         \u001b[38;5;34m2,838\u001b[0m │\n",
              "└─────────────────────────────────┴────────────────────────┴───────────────┘\n"
            ]
          },
          "metadata": {},
          "output_type": "display_data"
        },
        {
          "data": {
            "text/html": [
              "<pre style=\"white-space:pre;overflow-x:auto;line-height:normal;font-family:Menlo,'DejaVu Sans Mono',consolas,'Courier New',monospace\"><span style=\"font-weight: bold\"> Total params: </span><span style=\"color: #00af00; text-decoration-color: #00af00\">3,209,942</span> (12.24 MB)\n",
              "</pre>\n"
            ],
            "text/plain": [
              "\u001b[1m Total params: \u001b[0m\u001b[38;5;34m3,209,942\u001b[0m (12.24 MB)\n"
            ]
          },
          "metadata": {},
          "output_type": "display_data"
        },
        {
          "data": {
            "text/html": [
              "<pre style=\"white-space:pre;overflow-x:auto;line-height:normal;font-family:Menlo,'DejaVu Sans Mono',consolas,'Courier New',monospace\"><span style=\"font-weight: bold\"> Trainable params: </span><span style=\"color: #00af00; text-decoration-color: #00af00\">3,209,942</span> (12.24 MB)\n",
              "</pre>\n"
            ],
            "text/plain": [
              "\u001b[1m Trainable params: \u001b[0m\u001b[38;5;34m3,209,942\u001b[0m (12.24 MB)\n"
            ]
          },
          "metadata": {},
          "output_type": "display_data"
        },
        {
          "data": {
            "text/html": [
              "<pre style=\"white-space:pre;overflow-x:auto;line-height:normal;font-family:Menlo,'DejaVu Sans Mono',consolas,'Courier New',monospace\"><span style=\"font-weight: bold\"> Non-trainable params: </span><span style=\"color: #00af00; text-decoration-color: #00af00\">0</span> (0.00 B)\n",
              "</pre>\n"
            ],
            "text/plain": [
              "\u001b[1m Non-trainable params: \u001b[0m\u001b[38;5;34m0\u001b[0m (0.00 B)\n"
            ]
          },
          "metadata": {},
          "output_type": "display_data"
        }
      ],
      "source": [
        "#Creación del 2° Modelo\n",
        "\n",
        "data_augmentation = tf.keras.Sequential([\n",
        "    RandomFlip(\"horizontal\"),\n",
        "    RandomRotation(0.3),\n",
        "    RandomZoom(0.4),\n",
        "    RandomHeight(0.3),\n",
        "    RandomWidth(0.3),\n",
        "    Resizing(img_height, img_width),\n",
        "    tf.keras.layers.RandomContrast(0.4),\n",
        "    tf.keras.layers.RandomBrightness(0.4)\n",
        "])\n",
        "\n",
        "model2 = Sequential([\n",
        "    Input(shape=(img_height, img_width, 3)),\n",
        "    data_augmentation,\n",
        "    Rescaling(1./255),\n",
        "    Conv2D(32, (3, 3), activation='relu'),\n",
        "    MaxPooling2D(pool_size=(2, 2)),\n",
        "\n",
        "    Conv2D(64, (3, 3), activation='relu'),\n",
        "    MaxPooling2D(pool_size=(2, 2)),\n",
        "\n",
        "    Conv2D(128, (3, 3), activation='relu'),\n",
        "    MaxPooling2D(pool_size=(2, 2)),\n",
        "\n",
        "    Conv2D(256, (3, 3), activation='relu'),\n",
        "    MaxPooling2D(pool_size=(2, 2)),\n",
        "\n",
        "    Conv2D(512, (3, 3), activation='relu'),\n",
        "    MaxPooling2D(pool_size=(2, 2)),\n",
        "\n",
        "    Flatten(),\n",
        "    Dense(128, activation='relu'),\n",
        "    Dropout(0.3),\n",
        "    Dense(22, activation='softmax')  # 22 clases en el dataset\n",
        "])\n",
        "\n",
        "model2.compile(optimizer='adam', loss='categorical_crossentropy', metrics=['accuracy'])\n",
        "model2.summary()"
      ]
    },
    {
      "cell_type": "markdown",
      "metadata": {
        "id": "4a5RQZE80XgS"
      },
      "source": [
        "*Entrenamiento*\n",
        "\n",
        "Para la compilación del modelo se usa el optimizador \"Adam\", que es eficiente y funciona bien en tareas de clasificación de imágenes y la función de pérdida fue \"categorical_crossentropy\" (adecuada para tareas de clasificación multiclase).\n",
        "\n",
        "Para el entrenamiento, se utilizó una estrategia de \"EarlyStopping\" con un monitoreo de la pérdida en el conjunto de validación (val_loss) y una paciencia de 10 épocas. Esto ayuda a prevenir el sobreajuste, ya que detiene el entrenamiento cuando el modelo deja de mejorar en el conjunto de validación y restaura los mejores pesos.\n",
        "\n",
        "El modelo fue entrenado durante un máximo de 100 épocas, alcanzando a realizar aproximadamente 80 épocas utilizando \"train_dataset\" y \"validation_dataset\" como generadores de datos."
      ]
    },
    {
      "cell_type": "code",
      "execution_count": null,
      "metadata": {
        "colab": {
          "base_uri": "https://localhost:8080/"
        },
        "id": "inE62YjgM-o_",
        "outputId": "9df1a8f9-7743-49c1-92d8-734f8f4b9ffd"
      },
      "outputs": [
        {
          "name": "stdout",
          "output_type": "stream",
          "text": [
            "Epoch 1/100\n",
            "\u001b[1m471/471\u001b[0m \u001b[32m━━━━━━━━━━━━━━━━━━━━\u001b[0m\u001b[37m\u001b[0m \u001b[1m273s\u001b[0m 577ms/step - accuracy: 0.1021 - loss: 2.9875 - val_accuracy: 0.1840 - val_loss: 2.7091\n",
            "Epoch 2/100\n",
            "\u001b[1m471/471\u001b[0m \u001b[32m━━━━━━━━━━━━━━━━━━━━\u001b[0m\u001b[37m\u001b[0m \u001b[1m271s\u001b[0m 575ms/step - accuracy: 0.1581 - loss: 2.7467 - val_accuracy: 0.2332 - val_loss: 2.4211\n",
            "Epoch 3/100\n",
            "\u001b[1m471/471\u001b[0m \u001b[32m━━━━━━━━━━━━━━━━━━━━\u001b[0m\u001b[37m\u001b[0m \u001b[1m273s\u001b[0m 580ms/step - accuracy: 0.2068 - loss: 2.5341 - val_accuracy: 0.3113 - val_loss: 2.1487\n",
            "Epoch 4/100\n",
            "\u001b[1m471/471\u001b[0m \u001b[32m━━━━━━━━━━━━━━━━━━━━\u001b[0m\u001b[37m\u001b[0m \u001b[1m273s\u001b[0m 580ms/step - accuracy: 0.2703 - loss: 2.3053 - val_accuracy: 0.3829 - val_loss: 1.9149\n",
            "Epoch 5/100\n",
            "\u001b[1m471/471\u001b[0m \u001b[32m━━━━━━━━━━━━━━━━━━━━\u001b[0m\u001b[37m\u001b[0m \u001b[1m272s\u001b[0m 578ms/step - accuracy: 0.3348 - loss: 2.0788 - val_accuracy: 0.4178 - val_loss: 1.7576\n",
            "Epoch 6/100\n",
            "\u001b[1m471/471\u001b[0m \u001b[32m━━━━━━━━━━━━━━━━━━━━\u001b[0m\u001b[37m\u001b[0m \u001b[1m273s\u001b[0m 579ms/step - accuracy: 0.3708 - loss: 1.9408 - val_accuracy: 0.4639 - val_loss: 1.6131\n",
            "Epoch 7/100\n",
            "\u001b[1m471/471\u001b[0m \u001b[32m━━━━━━━━━━━━━━━━━━━━\u001b[0m\u001b[37m\u001b[0m \u001b[1m281s\u001b[0m 596ms/step - accuracy: 0.4044 - loss: 1.8162 - val_accuracy: 0.5008 - val_loss: 1.4972\n",
            "Epoch 8/100\n",
            "\u001b[1m471/471\u001b[0m \u001b[32m━━━━━━━━━━━━━━━━━━━━\u001b[0m\u001b[37m\u001b[0m \u001b[1m279s\u001b[0m 593ms/step - accuracy: 0.4252 - loss: 1.7217 - val_accuracy: 0.4928 - val_loss: 1.5322\n",
            "Epoch 9/100\n",
            "\u001b[1m471/471\u001b[0m \u001b[32m━━━━━━━━━━━━━━━━━━━━\u001b[0m\u001b[37m\u001b[0m \u001b[1m281s\u001b[0m 596ms/step - accuracy: 0.4498 - loss: 1.6619 - val_accuracy: 0.5674 - val_loss: 1.2606\n",
            "Epoch 10/100\n",
            "\u001b[1m471/471\u001b[0m \u001b[32m━━━━━━━━━━━━━━━━━━━━\u001b[0m\u001b[37m\u001b[0m \u001b[1m282s\u001b[0m 600ms/step - accuracy: 0.4815 - loss: 1.5666 - val_accuracy: 0.5537 - val_loss: 1.3242\n",
            "Epoch 11/100\n",
            "\u001b[1m471/471\u001b[0m \u001b[32m━━━━━━━━━━━━━━━━━━━━\u001b[0m\u001b[37m\u001b[0m \u001b[1m289s\u001b[0m 614ms/step - accuracy: 0.5034 - loss: 1.5017 - val_accuracy: 0.5862 - val_loss: 1.2082\n",
            "Epoch 12/100\n",
            "\u001b[1m471/471\u001b[0m \u001b[32m━━━━━━━━━━━━━━━━━━━━\u001b[0m\u001b[37m\u001b[0m \u001b[1m281s\u001b[0m 596ms/step - accuracy: 0.5166 - loss: 1.4390 - val_accuracy: 0.6363 - val_loss: 1.0868\n",
            "Epoch 13/100\n",
            "\u001b[1m471/471\u001b[0m \u001b[32m━━━━━━━━━━━━━━━━━━━━\u001b[0m\u001b[37m\u001b[0m \u001b[1m277s\u001b[0m 588ms/step - accuracy: 0.5437 - loss: 1.3652 - val_accuracy: 0.6239 - val_loss: 1.0781\n",
            "Epoch 14/100\n",
            "\u001b[1m471/471\u001b[0m \u001b[32m━━━━━━━━━━━━━━━━━━━━\u001b[0m\u001b[37m\u001b[0m \u001b[1m276s\u001b[0m 586ms/step - accuracy: 0.5650 - loss: 1.3131 - val_accuracy: 0.6185 - val_loss: 1.1231\n",
            "Epoch 15/100\n",
            "\u001b[1m471/471\u001b[0m \u001b[32m━━━━━━━━━━━━━━━━━━━━\u001b[0m\u001b[37m\u001b[0m \u001b[1m271s\u001b[0m 576ms/step - accuracy: 0.5718 - loss: 1.2646 - val_accuracy: 0.6522 - val_loss: 1.0145\n",
            "Epoch 16/100\n",
            "\u001b[1m471/471\u001b[0m \u001b[32m━━━━━━━━━━━━━━━━━━━━\u001b[0m\u001b[37m\u001b[0m \u001b[1m272s\u001b[0m 576ms/step - accuracy: 0.5821 - loss: 1.2486 - val_accuracy: 0.6542 - val_loss: 0.9829\n",
            "Epoch 17/100\n",
            "\u001b[1m471/471\u001b[0m \u001b[32m━━━━━━━━━━━━━━━━━━━━\u001b[0m\u001b[37m\u001b[0m \u001b[1m273s\u001b[0m 579ms/step - accuracy: 0.5957 - loss: 1.1883 - val_accuracy: 0.6582 - val_loss: 0.9777\n",
            "Epoch 18/100\n",
            "\u001b[1m471/471\u001b[0m \u001b[32m━━━━━━━━━━━━━━━━━━━━\u001b[0m\u001b[37m\u001b[0m \u001b[1m274s\u001b[0m 581ms/step - accuracy: 0.5991 - loss: 1.1858 - val_accuracy: 0.6868 - val_loss: 0.8917\n",
            "Epoch 19/100\n",
            "\u001b[1m471/471\u001b[0m \u001b[32m━━━━━━━━━━━━━━━━━━━━\u001b[0m\u001b[37m\u001b[0m \u001b[1m274s\u001b[0m 581ms/step - accuracy: 0.6106 - loss: 1.1572 - val_accuracy: 0.6812 - val_loss: 0.9330\n",
            "Epoch 20/100\n",
            "\u001b[1m471/471\u001b[0m \u001b[32m━━━━━━━━━━━━━━━━━━━━\u001b[0m\u001b[37m\u001b[0m \u001b[1m273s\u001b[0m 580ms/step - accuracy: 0.6140 - loss: 1.1396 - val_accuracy: 0.6570 - val_loss: 0.9828\n",
            "Epoch 21/100\n",
            "\u001b[1m471/471\u001b[0m \u001b[32m━━━━━━━━━━━━━━━━━━━━\u001b[0m\u001b[37m\u001b[0m \u001b[1m274s\u001b[0m 581ms/step - accuracy: 0.6216 - loss: 1.1192 - val_accuracy: 0.6971 - val_loss: 0.8576\n",
            "Epoch 22/100\n",
            "\u001b[1m471/471\u001b[0m \u001b[32m━━━━━━━━━━━━━━━━━━━━\u001b[0m\u001b[37m\u001b[0m \u001b[1m273s\u001b[0m 580ms/step - accuracy: 0.6262 - loss: 1.0988 - val_accuracy: 0.6953 - val_loss: 0.8748\n",
            "Epoch 23/100\n",
            "\u001b[1m471/471\u001b[0m \u001b[32m━━━━━━━━━━━━━━━━━━━━\u001b[0m\u001b[37m\u001b[0m \u001b[1m273s\u001b[0m 580ms/step - accuracy: 0.6363 - loss: 1.0696 - val_accuracy: 0.6866 - val_loss: 0.9153\n",
            "Epoch 24/100\n",
            "\u001b[1m471/471\u001b[0m \u001b[32m━━━━━━━━━━━━━━━━━━━━\u001b[0m\u001b[37m\u001b[0m \u001b[1m273s\u001b[0m 579ms/step - accuracy: 0.6416 - loss: 1.0524 - val_accuracy: 0.7201 - val_loss: 0.7978\n",
            "Epoch 25/100\n",
            "\u001b[1m471/471\u001b[0m \u001b[32m━━━━━━━━━━━━━━━━━━━━\u001b[0m\u001b[37m\u001b[0m \u001b[1m273s\u001b[0m 580ms/step - accuracy: 0.6507 - loss: 1.0419 - val_accuracy: 0.7015 - val_loss: 0.8603\n",
            "Epoch 26/100\n",
            "\u001b[1m471/471\u001b[0m \u001b[32m━━━━━━━━━━━━━━━━━━━━\u001b[0m\u001b[37m\u001b[0m \u001b[1m273s\u001b[0m 579ms/step - accuracy: 0.6480 - loss: 1.0284 - val_accuracy: 0.7269 - val_loss: 0.7755\n",
            "Epoch 27/100\n",
            "\u001b[1m471/471\u001b[0m \u001b[32m━━━━━━━━━━━━━━━━━━━━\u001b[0m\u001b[37m\u001b[0m \u001b[1m275s\u001b[0m 584ms/step - accuracy: 0.6424 - loss: 1.0308 - val_accuracy: 0.7229 - val_loss: 0.7837\n",
            "Epoch 28/100\n",
            "\u001b[1m471/471\u001b[0m \u001b[32m━━━━━━━━━━━━━━━━━━━━\u001b[0m\u001b[37m\u001b[0m \u001b[1m274s\u001b[0m 582ms/step - accuracy: 0.6594 - loss: 1.0003 - val_accuracy: 0.7165 - val_loss: 0.8101\n",
            "Epoch 29/100\n",
            "\u001b[1m471/471\u001b[0m \u001b[32m━━━━━━━━━━━━━━━━━━━━\u001b[0m\u001b[37m\u001b[0m \u001b[1m273s\u001b[0m 579ms/step - accuracy: 0.6530 - loss: 1.0112 - val_accuracy: 0.7279 - val_loss: 0.7824\n",
            "Epoch 30/100\n",
            "\u001b[1m471/471\u001b[0m \u001b[32m━━━━━━━━━━━━━━━━━━━━\u001b[0m\u001b[37m\u001b[0m \u001b[1m274s\u001b[0m 582ms/step - accuracy: 0.6698 - loss: 0.9553 - val_accuracy: 0.7374 - val_loss: 0.7521\n",
            "Epoch 31/100\n",
            "\u001b[1m471/471\u001b[0m \u001b[32m━━━━━━━━━━━━━━━━━━━━\u001b[0m\u001b[37m\u001b[0m \u001b[1m274s\u001b[0m 581ms/step - accuracy: 0.6744 - loss: 0.9471 - val_accuracy: 0.7292 - val_loss: 0.7762\n",
            "Epoch 32/100\n",
            "\u001b[1m471/471\u001b[0m \u001b[32m━━━━━━━━━━━━━━━━━━━━\u001b[0m\u001b[37m\u001b[0m \u001b[1m273s\u001b[0m 581ms/step - accuracy: 0.6726 - loss: 0.9581 - val_accuracy: 0.7306 - val_loss: 0.7822\n",
            "Epoch 33/100\n",
            "\u001b[1m471/471\u001b[0m \u001b[32m━━━━━━━━━━━━━━━━━━━━\u001b[0m\u001b[37m\u001b[0m \u001b[1m274s\u001b[0m 581ms/step - accuracy: 0.6741 - loss: 0.9673 - val_accuracy: 0.7273 - val_loss: 0.7586\n",
            "Epoch 34/100\n",
            "\u001b[1m471/471\u001b[0m \u001b[32m━━━━━━━━━━━━━━━━━━━━\u001b[0m\u001b[37m\u001b[0m \u001b[1m274s\u001b[0m 581ms/step - accuracy: 0.6836 - loss: 0.9237 - val_accuracy: 0.7466 - val_loss: 0.7253\n",
            "Epoch 35/100\n",
            "\u001b[1m471/471\u001b[0m \u001b[32m━━━━━━━━━━━━━━━━━━━━\u001b[0m\u001b[37m\u001b[0m \u001b[1m275s\u001b[0m 583ms/step - accuracy: 0.6915 - loss: 0.9058 - val_accuracy: 0.7318 - val_loss: 0.7419\n",
            "Epoch 36/100\n",
            "\u001b[1m471/471\u001b[0m \u001b[32m━━━━━━━━━━━━━━━━━━━━\u001b[0m\u001b[37m\u001b[0m \u001b[1m274s\u001b[0m 582ms/step - accuracy: 0.6843 - loss: 0.9169 - val_accuracy: 0.7426 - val_loss: 0.7204\n",
            "Epoch 37/100\n",
            "\u001b[1m471/471\u001b[0m \u001b[32m━━━━━━━━━━━━━━━━━━━━\u001b[0m\u001b[37m\u001b[0m \u001b[1m274s\u001b[0m 582ms/step - accuracy: 0.6910 - loss: 0.8928 - val_accuracy: 0.7263 - val_loss: 0.8125\n",
            "Epoch 38/100\n",
            "\u001b[1m471/471\u001b[0m \u001b[32m━━━━━━━━━━━━━━━━━━━━\u001b[0m\u001b[37m\u001b[0m \u001b[1m275s\u001b[0m 583ms/step - accuracy: 0.6880 - loss: 0.9214 - val_accuracy: 0.7508 - val_loss: 0.7054\n",
            "Epoch 39/100\n",
            "\u001b[1m471/471\u001b[0m \u001b[32m━━━━━━━━━━━━━━━━━━━━\u001b[0m\u001b[37m\u001b[0m \u001b[1m274s\u001b[0m 582ms/step - accuracy: 0.7039 - loss: 0.8568 - val_accuracy: 0.7398 - val_loss: 0.7480\n",
            "Epoch 40/100\n",
            "\u001b[1m471/471\u001b[0m \u001b[32m━━━━━━━━━━━━━━━━━━━━\u001b[0m\u001b[37m\u001b[0m \u001b[1m274s\u001b[0m 581ms/step - accuracy: 0.7009 - loss: 0.8608 - val_accuracy: 0.7528 - val_loss: 0.7081\n",
            "Epoch 41/100\n",
            "\u001b[1m471/471\u001b[0m \u001b[32m━━━━━━━━━━━━━━━━━━━━\u001b[0m\u001b[37m\u001b[0m \u001b[1m274s\u001b[0m 581ms/step - accuracy: 0.7018 - loss: 0.8551 - val_accuracy: 0.7558 - val_loss: 0.7157\n",
            "Epoch 42/100\n",
            "\u001b[1m471/471\u001b[0m \u001b[32m━━━━━━━━━━━━━━━━━━━━\u001b[0m\u001b[37m\u001b[0m \u001b[1m274s\u001b[0m 581ms/step - accuracy: 0.7008 - loss: 0.8540 - val_accuracy: 0.7332 - val_loss: 0.7711\n",
            "Epoch 43/100\n",
            "\u001b[1m471/471\u001b[0m \u001b[32m━━━━━━━━━━━━━━━━━━━━\u001b[0m\u001b[37m\u001b[0m \u001b[1m273s\u001b[0m 579ms/step - accuracy: 0.7009 - loss: 0.8600 - val_accuracy: 0.7536 - val_loss: 0.6968\n",
            "Epoch 44/100\n",
            "\u001b[1m471/471\u001b[0m \u001b[32m━━━━━━━━━━━━━━━━━━━━\u001b[0m\u001b[37m\u001b[0m \u001b[1m274s\u001b[0m 581ms/step - accuracy: 0.7070 - loss: 0.8394 - val_accuracy: 0.7330 - val_loss: 0.7399\n",
            "Epoch 45/100\n",
            "\u001b[1m471/471\u001b[0m \u001b[32m━━━━━━━━━━━━━━━━━━━━\u001b[0m\u001b[37m\u001b[0m \u001b[1m273s\u001b[0m 580ms/step - accuracy: 0.7050 - loss: 0.8352 - val_accuracy: 0.7546 - val_loss: 0.6705\n",
            "Epoch 46/100\n",
            "\u001b[1m471/471\u001b[0m \u001b[32m━━━━━━━━━━━━━━━━━━━━\u001b[0m\u001b[37m\u001b[0m \u001b[1m273s\u001b[0m 580ms/step - accuracy: 0.7074 - loss: 0.8289 - val_accuracy: 0.7680 - val_loss: 0.6599\n",
            "Epoch 47/100\n",
            "\u001b[1m471/471\u001b[0m \u001b[32m━━━━━━━━━━━━━━━━━━━━\u001b[0m\u001b[37m\u001b[0m \u001b[1m273s\u001b[0m 580ms/step - accuracy: 0.7045 - loss: 0.8529 - val_accuracy: 0.7530 - val_loss: 0.6932\n",
            "Epoch 48/100\n",
            "\u001b[1m471/471\u001b[0m \u001b[32m━━━━━━━━━━━━━━━━━━━━\u001b[0m\u001b[37m\u001b[0m \u001b[1m273s\u001b[0m 579ms/step - accuracy: 0.7133 - loss: 0.8348 - val_accuracy: 0.7576 - val_loss: 0.6720\n",
            "Epoch 49/100\n",
            "\u001b[1m471/471\u001b[0m \u001b[32m━━━━━━━━━━━━━━━━━━━━\u001b[0m\u001b[37m\u001b[0m \u001b[1m273s\u001b[0m 580ms/step - accuracy: 0.7165 - loss: 0.8213 - val_accuracy: 0.7564 - val_loss: 0.6795\n",
            "Epoch 50/100\n",
            "\u001b[1m471/471\u001b[0m \u001b[32m━━━━━━━━━━━━━━━━━━━━\u001b[0m\u001b[37m\u001b[0m \u001b[1m273s\u001b[0m 580ms/step - accuracy: 0.7136 - loss: 0.8129 - val_accuracy: 0.7528 - val_loss: 0.6973\n",
            "Epoch 51/100\n",
            "\u001b[1m471/471\u001b[0m \u001b[32m━━━━━━━━━━━━━━━━━━━━\u001b[0m\u001b[37m\u001b[0m \u001b[1m272s\u001b[0m 578ms/step - accuracy: 0.7249 - loss: 0.7925 - val_accuracy: 0.7444 - val_loss: 0.7286\n",
            "Epoch 52/100\n",
            "\u001b[1m471/471\u001b[0m \u001b[32m━━━━━━━━━━━━━━━━━━━━\u001b[0m\u001b[37m\u001b[0m \u001b[1m273s\u001b[0m 581ms/step - accuracy: 0.7163 - loss: 0.8101 - val_accuracy: 0.7608 - val_loss: 0.6999\n",
            "Epoch 53/100\n",
            "\u001b[1m471/471\u001b[0m \u001b[32m━━━━━━━━━━━━━━━━━━━━\u001b[0m\u001b[37m\u001b[0m \u001b[1m275s\u001b[0m 584ms/step - accuracy: 0.7149 - loss: 0.8144 - val_accuracy: 0.7723 - val_loss: 0.6400\n",
            "Epoch 54/100\n",
            "\u001b[1m471/471\u001b[0m \u001b[32m━━━━━━━━━━━━━━━━━━━━\u001b[0m\u001b[37m\u001b[0m \u001b[1m275s\u001b[0m 583ms/step - accuracy: 0.7250 - loss: 0.7841 - val_accuracy: 0.7688 - val_loss: 0.6494\n",
            "Epoch 55/100\n",
            "\u001b[1m471/471\u001b[0m \u001b[32m━━━━━━━━━━━━━━━━━━━━\u001b[0m\u001b[37m\u001b[0m \u001b[1m274s\u001b[0m 583ms/step - accuracy: 0.7277 - loss: 0.7893 - val_accuracy: 0.7516 - val_loss: 0.7151\n",
            "Epoch 56/100\n",
            "\u001b[1m471/471\u001b[0m \u001b[32m━━━━━━━━━━━━━━━━━━━━\u001b[0m\u001b[37m\u001b[0m \u001b[1m273s\u001b[0m 580ms/step - accuracy: 0.7146 - loss: 0.8064 - val_accuracy: 0.7696 - val_loss: 0.6494\n",
            "Epoch 57/100\n",
            "\u001b[1m471/471\u001b[0m \u001b[32m━━━━━━━━━━━━━━━━━━━━\u001b[0m\u001b[37m\u001b[0m \u001b[1m272s\u001b[0m 578ms/step - accuracy: 0.7188 - loss: 0.8011 - val_accuracy: 0.7656 - val_loss: 0.6656\n",
            "Epoch 58/100\n",
            "\u001b[1m471/471\u001b[0m \u001b[32m━━━━━━━━━━━━━━━━━━━━\u001b[0m\u001b[37m\u001b[0m \u001b[1m274s\u001b[0m 581ms/step - accuracy: 0.7249 - loss: 0.7957 - val_accuracy: 0.7604 - val_loss: 0.6844\n",
            "Epoch 59/100\n",
            "\u001b[1m471/471\u001b[0m \u001b[32m━━━━━━━━━━━━━━━━━━━━\u001b[0m\u001b[37m\u001b[0m \u001b[1m274s\u001b[0m 581ms/step - accuracy: 0.7310 - loss: 0.7721 - val_accuracy: 0.7739 - val_loss: 0.6481\n",
            "Epoch 60/100\n",
            "\u001b[1m471/471\u001b[0m \u001b[32m━━━━━━━━━━━━━━━━━━━━\u001b[0m\u001b[37m\u001b[0m \u001b[1m274s\u001b[0m 581ms/step - accuracy: 0.7326 - loss: 0.7749 - val_accuracy: 0.7664 - val_loss: 0.6688\n",
            "Epoch 61/100\n",
            "\u001b[1m471/471\u001b[0m \u001b[32m━━━━━━━━━━━━━━━━━━━━\u001b[0m\u001b[37m\u001b[0m \u001b[1m273s\u001b[0m 579ms/step - accuracy: 0.7318 - loss: 0.7868 - val_accuracy: 0.7835 - val_loss: 0.6466\n",
            "Epoch 62/100\n",
            "\u001b[1m471/471\u001b[0m \u001b[32m━━━━━━━━━━━━━━━━━━━━\u001b[0m\u001b[37m\u001b[0m \u001b[1m273s\u001b[0m 580ms/step - accuracy: 0.7327 - loss: 0.7705 - val_accuracy: 0.7743 - val_loss: 0.6327\n",
            "Epoch 63/100\n",
            "\u001b[1m471/471\u001b[0m \u001b[32m━━━━━━━━━━━━━━━━━━━━\u001b[0m\u001b[37m\u001b[0m \u001b[1m273s\u001b[0m 579ms/step - accuracy: 0.7310 - loss: 0.7680 - val_accuracy: 0.7546 - val_loss: 0.6685\n",
            "Epoch 64/100\n",
            "\u001b[1m471/471\u001b[0m \u001b[32m━━━━━━━━━━━━━━━━━━━━\u001b[0m\u001b[37m\u001b[0m \u001b[1m273s\u001b[0m 580ms/step - accuracy: 0.7312 - loss: 0.7700 - val_accuracy: 0.7759 - val_loss: 0.6420\n",
            "Epoch 65/100\n",
            "\u001b[1m471/471\u001b[0m \u001b[32m━━━━━━━━━━━━━━━━━━━━\u001b[0m\u001b[37m\u001b[0m \u001b[1m273s\u001b[0m 580ms/step - accuracy: 0.7382 - loss: 0.7495 - val_accuracy: 0.7620 - val_loss: 0.6736\n",
            "Epoch 66/100\n",
            "\u001b[1m471/471\u001b[0m \u001b[32m━━━━━━━━━━━━━━━━━━━━\u001b[0m\u001b[37m\u001b[0m \u001b[1m277s\u001b[0m 589ms/step - accuracy: 0.7253 - loss: 0.7762 - val_accuracy: 0.7771 - val_loss: 0.6346\n",
            "Epoch 67/100\n",
            "\u001b[1m471/471\u001b[0m \u001b[32m━━━━━━━━━━━━━━━━━━━━\u001b[0m\u001b[37m\u001b[0m \u001b[1m274s\u001b[0m 581ms/step - accuracy: 0.7362 - loss: 0.7492 - val_accuracy: 0.7867 - val_loss: 0.5978\n",
            "Epoch 68/100\n",
            "\u001b[1m471/471\u001b[0m \u001b[32m━━━━━━━━━━━━━━━━━━━━\u001b[0m\u001b[37m\u001b[0m \u001b[1m277s\u001b[0m 588ms/step - accuracy: 0.7394 - loss: 0.7529 - val_accuracy: 0.7737 - val_loss: 0.6524\n",
            "Epoch 69/100\n",
            "\u001b[1m471/471\u001b[0m \u001b[32m━━━━━━━━━━━━━━━━━━━━\u001b[0m\u001b[37m\u001b[0m \u001b[1m274s\u001b[0m 581ms/step - accuracy: 0.7384 - loss: 0.7515 - val_accuracy: 0.7839 - val_loss: 0.6138\n",
            "Epoch 70/100\n",
            "\u001b[1m471/471\u001b[0m \u001b[32m━━━━━━━━━━━━━━━━━━━━\u001b[0m\u001b[37m\u001b[0m \u001b[1m272s\u001b[0m 578ms/step - accuracy: 0.7425 - loss: 0.7438 - val_accuracy: 0.7664 - val_loss: 0.6711\n",
            "Epoch 71/100\n",
            "\u001b[1m471/471\u001b[0m \u001b[32m━━━━━━━━━━━━━━━━━━━━\u001b[0m\u001b[37m\u001b[0m \u001b[1m274s\u001b[0m 581ms/step - accuracy: 0.7362 - loss: 0.7332 - val_accuracy: 0.7751 - val_loss: 0.6372\n",
            "Epoch 72/100\n",
            "\u001b[1m471/471\u001b[0m \u001b[32m━━━━━━━━━━━━━━━━━━━━\u001b[0m\u001b[37m\u001b[0m \u001b[1m274s\u001b[0m 581ms/step - accuracy: 0.7419 - loss: 0.7507 - val_accuracy: 0.7913 - val_loss: 0.5859\n",
            "Epoch 73/100\n",
            "\u001b[1m471/471\u001b[0m \u001b[32m━━━━━━━━━━━━━━━━━━━━\u001b[0m\u001b[37m\u001b[0m \u001b[1m273s\u001b[0m 580ms/step - accuracy: 0.7373 - loss: 0.7534 - val_accuracy: 0.7648 - val_loss: 0.6799\n",
            "Epoch 74/100\n",
            "\u001b[1m471/471\u001b[0m \u001b[32m━━━━━━━━━━━━━━━━━━━━\u001b[0m\u001b[37m\u001b[0m \u001b[1m273s\u001b[0m 579ms/step - accuracy: 0.7422 - loss: 0.7313 - val_accuracy: 0.7684 - val_loss: 0.6456\n",
            "Epoch 75/100\n",
            "\u001b[1m471/471\u001b[0m \u001b[32m━━━━━━━━━━━━━━━━━━━━\u001b[0m\u001b[37m\u001b[0m \u001b[1m272s\u001b[0m 578ms/step - accuracy: 0.7410 - loss: 0.7441 - val_accuracy: 0.7616 - val_loss: 0.6356\n",
            "Epoch 76/100\n",
            "\u001b[1m471/471\u001b[0m \u001b[32m━━━━━━━━━━━━━━━━━━━━\u001b[0m\u001b[37m\u001b[0m \u001b[1m273s\u001b[0m 579ms/step - accuracy: 0.7484 - loss: 0.7116 - val_accuracy: 0.7678 - val_loss: 0.6470\n",
            "Epoch 77/100\n",
            "\u001b[1m471/471\u001b[0m \u001b[32m━━━━━━━━━━━━━━━━━━━━\u001b[0m\u001b[37m\u001b[0m \u001b[1m273s\u001b[0m 579ms/step - accuracy: 0.7482 - loss: 0.7276 - val_accuracy: 0.7813 - val_loss: 0.6365\n",
            "Epoch 78/100\n",
            "\u001b[1m471/471\u001b[0m \u001b[32m━━━━━━━━━━━━━━━━━━━━\u001b[0m\u001b[37m\u001b[0m \u001b[1m272s\u001b[0m 577ms/step - accuracy: 0.7379 - loss: 0.7375 - val_accuracy: 0.7568 - val_loss: 0.6930\n",
            "Epoch 79/100\n",
            "\u001b[1m471/471\u001b[0m \u001b[32m━━━━━━━━━━━━━━━━━━━━\u001b[0m\u001b[37m\u001b[0m \u001b[1m271s\u001b[0m 576ms/step - accuracy: 0.7432 - loss: 0.7349 - val_accuracy: 0.7881 - val_loss: 0.5962\n",
            "Epoch 80/100\n",
            "\u001b[1m471/471\u001b[0m \u001b[32m━━━━━━━━━━━━━━━━━━━━\u001b[0m\u001b[37m\u001b[0m \u001b[1m272s\u001b[0m 577ms/step - accuracy: 0.7469 - loss: 0.7199 - val_accuracy: 0.7805 - val_loss: 0.6430\n",
            "Epoch 81/100\n",
            "\u001b[1m471/471\u001b[0m \u001b[32m━━━━━━━━━━━━━━━━━━━━\u001b[0m\u001b[37m\u001b[0m \u001b[1m271s\u001b[0m 576ms/step - accuracy: 0.7486 - loss: 0.7251 - val_accuracy: 0.7845 - val_loss: 0.6010\n",
            "Epoch 82/100\n",
            "\u001b[1m471/471\u001b[0m \u001b[32m━━━━━━━━━━━━━━━━━━━━\u001b[0m\u001b[37m\u001b[0m \u001b[1m273s\u001b[0m 580ms/step - accuracy: 0.7460 - loss: 0.7242 - val_accuracy: 0.7737 - val_loss: 0.6484\n"
          ]
        }
      ],
      "source": [
        "early_stopping = EarlyStopping(monitor='val_loss', patience=10, restore_best_weights=True)\n",
        "\n",
        "history2 = model2.fit(\n",
        "    train_dataset,\n",
        "    validation_data=validation_dataset,\n",
        "    epochs=100,\n",
        "    callbacks=[early_stopping]\n",
        ")"
      ]
    },
    {
      "cell_type": "code",
      "execution_count": null,
      "metadata": {
        "colab": {
          "base_uri": "https://localhost:8080/",
          "height": 262
        },
        "id": "d-LPeQJiNnpB",
        "outputId": "7671b0a5-4613-4823-fb43-0e1b99ef567d"
      },
      "outputs": [
        {
          "data": {
            "image/png": "[encoded data removed]",
            "text/plain": [
              "<Figure size 1200x400 with 2 Axes>"
            ]
          },
          "metadata": {},
          "output_type": "display_data"
        }
      ],
      "source": [
        "# Gráfica de precisión y pérdida\n",
        "plt.figure(figsize=(12, 4))\n",
        "\n",
        "plt.subplot(1, 2, 1)\n",
        "plt.plot(history2.history['accuracy'], label='Entrenamiento')\n",
        "plt.plot(history2.history['val_accuracy'], label='Validación')\n",
        "plt.xlabel('Épocas')\n",
        "plt.ylabel('Precisión')\n",
        "plt.legend()\n",
        "\n",
        "plt.subplot(1, 2, 2)\n",
        "plt.plot(history2.history['loss'], label='Entrenamiento')\n",
        "plt.plot(history2.history['val_loss'], label='Validación')\n",
        "plt.xlabel('Épocas')\n",
        "plt.ylabel('Pérdida')\n",
        "plt.legend()\n",
        "\n",
        "plt.show()\n"
      ]
    },
    {
      "cell_type": "markdown",
      "metadata": {
        "id": "ylrkYIYt1Ane"
      },
      "source": [
        "*Evaluación*\n",
        "\n",
        "El modelo alcanzó una precisión de validación del 79%, una mejora notable frente al primer modelo (68%). Esto sugiere que el modelo es capaz de generalizar mejor sobre el conjunto de validación y de captar patrones relevantes en el dataset, posiblemente debido la introducción de capas adicionales y un número mayor de filtros en las capas convolucionales permitió al modelo aprender características más detalladas de las imágenes. Al igual que el uso de data augmentation pudo aumentar la  robustez del modelo frente a variaciones en las imágenes de entrada, contribuyendo a su capacidad de generalización."
      ]
    },
    {
      "cell_type": "code",
      "execution_count": null,
      "metadata": {
        "colab": {
          "base_uri": "https://localhost:8080/"
        },
        "id": "qBgHwjbOqtqF",
        "outputId": "6a9a8ad8-7fec-414a-b21b-d79acf097ef9"
      },
      "outputs": [
        {
          "name": "stdout",
          "output_type": "stream",
          "text": [
            "\u001b[1m157/157\u001b[0m \u001b[32m━━━━━━━━━━━━━━━━━━━━\u001b[0m\u001b[37m\u001b[0m \u001b[1m23s\u001b[0m 145ms/step - accuracy: 0.7980 - loss: 0.5606\n",
            "Precisión en validación: 0.79\n"
          ]
        }
      ],
      "source": [
        "# Evaluación en el conjunto de validación\n",
        "loss, accuracy = model2.evaluate(validation_dataset)\n",
        "print(f\"Precisión en validación: {accuracy:.2f}\")"
      ]
    },
    {
      "cell_type": "code",
      "execution_count": null,
      "metadata": {
        "colab": {
          "base_uri": "https://localhost:8080/"
        },
        "id": "wXWgjjg5qvqu",
        "outputId": "d9c105c4-f6cc-4976-e31b-004c72635689"
      },
      "outputs": [
        {
          "name": "stdout",
          "output_type": "stream",
          "text": [
            "\u001b[1m158/158\u001b[0m \u001b[32m━━━━━━━━━━━━━━━━━━━━\u001b[0m\u001b[37m\u001b[0m \u001b[1m22s\u001b[0m 141ms/step\n",
            "Precisión en test: 0.7779097387173397\n",
            "\n",
            "Reporte de clasificación:\n",
            "                            precision    recall  f1-score   support\n",
            "\n",
            "       anthracnose-cashew       0.78      0.84      0.80       347\n",
            " bacterial blight-cassava       0.79      0.78      0.79       524\n",
            "       brown spot-cassava       0.76      0.88      0.81       297\n",
            "    cashew-mosaic-cassava       0.97      0.85      0.91       241\n",
            "      fall armyworm-maize       0.62      0.37      0.46        57\n",
            "         grasshoper-maize       0.86      0.69      0.77       136\n",
            "       green mite-cassava       0.83      0.77      0.80       203\n",
            "           gumosis-cashew       0.90      0.92      0.91        79\n",
            "           healthy-cashew       0.89      0.85      0.87       275\n",
            "          healthy-cassava       0.92      0.90      0.91       240\n",
            "            healthy-maize       0.91      0.73      0.81        41\n",
            "           healthy-tomato       0.89      0.83      0.86        95\n",
            "        leaf beetle-maize       0.87      0.86      0.86       189\n",
            "        leaf blight-maize       0.61      0.46      0.53       200\n",
            "       leaf blight-tomato       0.58      0.42      0.49       260\n",
            "         leaf curl-tomato       0.76      0.25      0.38       103\n",
            "        leaf miner-cashew       0.87      0.89      0.88       277\n",
            "          leaf spot-maize       0.54      0.83      0.65       250\n",
            "          red rust-cashew       0.95      0.99      0.97       337\n",
            "septoria leaf spot-tomato       0.65      0.90      0.75       550\n",
            "       streak virus-maize       0.88      0.74      0.81       195\n",
            "  verticulium wilt-tomato       0.66      0.27      0.38       156\n",
            "\n",
            "                 accuracy                           0.78      5052\n",
            "                macro avg       0.79      0.73      0.75      5052\n",
            "             weighted avg       0.78      0.78      0.77      5052\n",
            "\n"
          ]
        }
      ],
      "source": [
        "# Obtener las predicciones en el conjunto de prueba\n",
        "predictions = model2.predict(test_dataset)\n",
        "\n",
        "# Convertir las predicciones a etiquetas\n",
        "predicted_classes = np.argmax(predictions, axis=1)\n",
        "\n",
        "# Obtener las etiquetas reales del generador de prueba\n",
        "true_classes = np.concatenate([y.numpy() for _, y in test_dataset]) # Removed np.argmax and axis=1\n",
        "\n",
        "# Mostrar algunas métricas de evaluación\n",
        "from sklearn.metrics import accuracy_score, classification_report, confusion_matrix\n",
        "print(\"Precisión en test:\", accuracy_score(true_classes, predicted_classes))\n",
        "print(\"\\nReporte de clasificación:\\n\", classification_report(true_classes, predicted_classes, target_names=class_labels)) # Now use class_labels!\n"
      ]
    },
    {
      "cell_type": "markdown",
      "metadata": {
        "id": "Dyr4AoSgFnzw"
      },
      "source": [
        "------"
      ]
    },
    {
      "cell_type": "markdown",
      "metadata": {
        "id": "l_LKWqNz2ag8"
      },
      "source": [
        "**Resultados**\n",
        "\n",
        "Para evaluar el rendimiento final del modelo, se utilizó el conjunto de prueba. Los resultados mostraron una precisión promedio del 78%, con la capacidad del modelo para clasificar correctamente varias enfermedades en los cultivos. Las predicciones indican que el modelo puede identificar con éxito la mayoría de las enfermedades, aunque ciertas clases siguen presentando errores, probablemente debido a similitudes visuales entre enfermedades en distintos cultivos."
      ]
    },
    {
      "cell_type": "markdown",
      "metadata": {
        "id": "Jns3fAC-2-FU"
      },
      "source": [
        "**Conclusiones**\n",
        "\n",
        "El desarrollo de este modelo de clasificación de imágenes para la detección de enfermedades en cultivos ha mostrado resultados prometedores, alcanzando un 78% de precisión en la versión ajustada. Sin embargo, destaca áreas de mejora. Los resultados podrían beneficiarse de un modelo más robusto, como una arquitectura preentrenada para extraer características de manera más eficaz. Además, ajustar la cantidad de datos por clase podría ayudar a mejorar el rendimiento en clases con menor precisión."
      ]
    },
    {
      "cell_type": "markdown",
      "metadata": {
        "id": "GzDYm1Nc8N4y"
      },
      "source": [
        "----"
      ]
    },
    {
      "cell_type": "markdown",
      "metadata": {
        "id": "KqBfOFNr8N4y"
      },
      "source": [
        "**Aplicación**"
      ]
    },
    {
      "cell_type": "code",
      "execution_count": null,
      "metadata": {
        "id": "2r0rEqdP8N4y",
        "outputId": "49e7fe21-ce6c-4bb7-d709-d28c3f0c4b11"
      },
      "outputs": [
        {
          "name": "stdout",
          "output_type": "stream",
          "text": [
            "\u001b[1m1/1\u001b[0m \u001b[32m━━━━━━━━━━━━━━━━━━━━\u001b[0m\u001b[37m\u001b[0m \u001b[1m0s\u001b[0m 68ms/step\n",
            "La imagen pertenece a la clase: anthracnose-cashew\n"
          ]
        }
      ],
      "source": [
        "from tensorflow.keras.utils import load_img, img_to_array\n",
        "\n",
        "\n",
        "# Función que realiza la predicción de una imagen y devuelve la clase correspondiente.\n",
        "def predict_image(image_path, model, class_labels):\n",
        "\n",
        "     # Cargar y preprocesar la imagen\n",
        "    img = load_img(image_path, target_size=(img_height, img_width))  # Cambia img_height y img_width según tu modelo\n",
        "    img_array = img_to_array(img) / 255.0  # Escalar los valores de píxeles\n",
        "    img_array = np.expand_dims(img_array, axis=0)  # Añadir dimensión de lote\n",
        "\n",
        "    # Realizar la predicción\n",
        "    predictions = model.predict(img_array)\n",
        "    predicted_class_index = np.argmax(predictions, axis=1)[0]  # Índice de la clase con mayor probabilidad\n",
        "    predicted_class = class_labels[predicted_class_index]  # Obtener el nombre de la clase\n",
        "\n",
        "    return predicted_class, predictions[0]\n",
        "\n",
        "\n",
        "# Ruta de una imagen individual para prueba\n",
        "img_path = '/Users/alfyazamar/Downloads/cashew.jpg'\n",
        "\n",
        "# Realizar la predicción\n",
        "predicted_class, probabilities = predict_image(img_path, model2, class_labels)\n",
        "\n",
        "# Imprimir el resultado\n",
        "print(f\"La imagen pertenece a la clase: {predicted_class}\")\n",
        "#print(f\"Vector de probabilidades: {probabilities}\")\n"
      ]
    },
    {
      "cell_type": "markdown",
      "metadata": {
        "id": "49KDFzJ48N4y"
      },
      "source": [
        "----"
      ]
    },
    {
      "cell_type": "markdown",
      "metadata": {
        "id": "AowUR9F-8N4y"
      },
      "source": [
        "*Guardando el modelo entrenado*"
      ]
    },
    {
      "cell_type": "code",
      "execution_count": null,
      "metadata": {
        "id": "dnzm5GGoYVdq"
      },
      "outputs": [],
      "source": [
        "#COLAB\n",
        "model2.save('trained_model.keras')\n",
        "!zip -r trained_model.zip trained_model.keras\n",
        "\n",
        "files.download('trained_model.zip')"
      ]
    },
    {
      "cell_type": "code",
      "execution_count": null,
      "metadata": {
        "id": "8mBUUR4p8N4y",
        "outputId": "5acc1536-1d21-473d-c1c9-207c9d07ffa3"
      },
      "outputs": [
        {
          "name": "stdout",
          "output_type": "stream",
          "text": [
            "  adding: trained_model.keras (deflated 10%)\n"
          ]
        },
        {
          "data": {
            "text/html": [
              "<a href='trained_model.zip' target='_blank'>trained_model.zip</a><br>"
            ],
            "text/plain": [
              "/Users/alfyazamar/Downloads/trained_model.zip"
            ]
          },
          "execution_count": 23,
          "metadata": {},
          "output_type": "execute_result"
        }
      ],
      "source": [
        "#LOCAL\n",
        "from IPython.display import FileLink\n",
        "\n",
        "model2.save('trained_model.keras')\n",
        "!zip -r trained_model.zip trained_model.keras\n",
        "\n",
        "FileLink('trained_model.zip')"
      ]
    }
  ],
  "metadata": {
    "accelerator": "GPU",
    "colab": {
      "gpuType": "T4",
      "provenance": []
    },
    "kernelspec": {
      "display_name": "fredd_env",
      "language": "python",
      "name": "python3"
    },
    "language_info": {
      "codemirror_mode": {
        "name": "ipython",
        "version": 3
      },
      "file_extension": ".py",
      "mimetype": "text/x-python",
      "name": "python",
      "nbconvert_exporter": "python",
      "pygments_lexer": "ipython3",
      "version": "3.12.2"
    }
  },
  "nbformat": 4,
  "nbformat_minor": 0
}